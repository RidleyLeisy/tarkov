{
 "cells": [
  {
   "cell_type": "code",
   "execution_count": 3,
   "metadata": {},
   "outputs": [],
   "source": [
    "import requests\n",
    "import numpy as np"
   ]
  },
  {
   "cell_type": "code",
   "execution_count": 4,
   "metadata": {},
   "outputs": [],
   "source": [
    "d = [{'x': ['12/70 \"Poleva-3\" Slug', '12/70 \"Poleva-6u\" Slug',\n",
    "       '12x70 Led slug', '12/70 Dual Sabot Slug',\n",
    "       '12/70 FTX Custom LIte Slug', '12/70 HP Slug Copper Sabot Premier',\n",
    "       '12/70 AP-20 Slug', '12/70 Grizzly 40 Slug',\n",
    "       '12x70 shell with .50 BMG bullet', '12/70 HP Slug \"SuperFormance\"',\n",
    "       '12x70 RIP']}]"
   ]
  },
  {
   "cell_type": "code",
   "execution_count": 5,
   "metadata": {},
   "outputs": [
    {
     "name": "stdout",
     "output_type": "stream",
     "text": [
      " \"Poleva-3\" Slug\n",
      " \"Poleva-6u\" Slug\n",
      "12x70 Led slug\n",
      " Dual Sabot Slug\n",
      " FTX Custom LIte Slug\n",
      " HP Slug Copper Sabot Premier\n",
      " AP-20 Slug\n",
      " Grizzly 40 Slug\n",
      "12x70 shell with .50 BMG bullet\n",
      " HP Slug \"SuperFormance\"\n",
      "12x70 RIP\n"
     ]
    }
   ],
   "source": [
    "for v in d[0]['x']:\n",
    "    print(v.replace('12/70',''))"
   ]
  },
  {
   "cell_type": "code",
   "execution_count": null,
   "metadata": {},
   "outputs": [],
   "source": []
  },
  {
   "cell_type": "code",
   "execution_count": null,
   "metadata": {},
   "outputs": [],
   "source": []
  },
  {
   "cell_type": "code",
   "execution_count": null,
   "metadata": {},
   "outputs": [],
   "source": []
  },
  {
   "cell_type": "markdown",
   "metadata": {},
   "source": [
    "## Web Scrape"
   ]
  },
  {
   "cell_type": "code",
   "execution_count": 6,
   "metadata": {},
   "outputs": [],
   "source": [
    "from bs4 import BeautifulSoup\n",
    "import pandas as pd\n",
    "import html5lib"
   ]
  },
  {
   "cell_type": "code",
   "execution_count": 7,
   "metadata": {},
   "outputs": [],
   "source": [
    "r = requests.get('https://escapefromtarkov.gamepedia.com/Ballistics#Armor_Penetration_Tables')"
   ]
  },
  {
   "cell_type": "code",
   "execution_count": 8,
   "metadata": {},
   "outputs": [],
   "source": [
    "soup = BeautifulSoup(r.content,'html.parser')"
   ]
  },
  {
   "cell_type": "code",
   "execution_count": 9,
   "metadata": {},
   "outputs": [],
   "source": [
    "table = soup.find(\"table\",{\"class\":\"wikitable sortable\"})"
   ]
  },
  {
   "cell_type": "code",
   "execution_count": 10,
   "metadata": {},
   "outputs": [],
   "source": [
    "df = pd.read_html(str(table),header=1)[0]"
   ]
  },
  {
   "cell_type": "code",
   "execution_count": 11,
   "metadata": {},
   "outputs": [],
   "source": [
    "gun_dict = {'7.62x25mm Tokarev':['TT pistol','TT pistol (gold)'],\n",
    "           '9x18mm Makarov': ['APB','APS','PB pistol','PM (t) pistol','PM pistol','PP-9 \"Klin\"',\n",
    "           'PP-91 \"Kedr\"','PP-91-01 \"Kedr-B\"'],\n",
    "           '9x19mm Parabellum':['GLOCK17','GLOCK18C','M9A3','MP-443 \"Grach\"','P226R',\n",
    "                               'MP5','MP5K-N','MPX','PP-19-01 Vityaz-SN','Saiga-9','MP9','MP9-N'],\n",
    "           '9x21mm Gyurza':['SR-1MP Gyurza'],\n",
    "           '4.6x30mm HK':['MP7A1','MP7A2'],\n",
    "           '5.7x28mm FN':['FN 5-7','P90'],\n",
    "           '5.45x39mm':['AK-105','AK-74','AK-74M','AK-74N','AKS-74','AKS-74N','AKS-74U',\n",
    "                       'AKS-74UB','AKS-74UN','RPK-16'],\n",
    "           '5.56x45mm NATO':['ADAR 2-15','AK-101','AK-102','DT MDR','HK 416A5','M4A1','TX-15 DML'],\n",
    "           '7.62x39mm':['OP-SKS','SKS','AK-103','AK-104','AKM','AKMN','AKMS','AKMSN','Vepr KM/VPO-136'],\n",
    "           '7.62x51mm NATO':['Vepr Hunter/VPO-101','SA-58','DT MDR .308','M1A','RSASS','SR-25','DVL-10',\n",
    "                            'M700','T-5000'],\n",
    "           '7.62x54mmR':['SVDS','Mosin','Mosin Inf.','SV-98'],\n",
    "           '9x39mm':['AS VAL','VSS Vintorez'],\n",
    "           '.366 TKM':['Vepr AKM/VPO-209','VPO-215'],\n",
    "           '12.7x55mm STs-130':['ASh-12'],\n",
    "           '12.7x108mm':['NSV \"Utes\"'],\n",
    "           '12/70 slugs':['M870','MP-133','MP-153','Saiga-12'],\n",
    "           '20x70mm':['TOZ-106']}"
   ]
  },
  {
   "cell_type": "code",
   "execution_count": 12,
   "metadata": {},
   "outputs": [
    {
     "data": {
      "text/plain": [
       "['Vepr Hunter/VPO-101',\n",
       " 'SA-58',\n",
       " 'DT MDR .308',\n",
       " 'M1A',\n",
       " 'RSASS',\n",
       " 'SR-25',\n",
       " 'DVL-10',\n",
       " 'M700',\n",
       " 'T-5000']"
      ]
     },
     "execution_count": 12,
     "metadata": {},
     "output_type": "execute_result"
    }
   ],
   "source": [
    "gun_dict.get('7.62x51mm NATO','5.56x45mm NATO')"
   ]
  },
  {
   "cell_type": "markdown",
   "metadata": {},
   "source": [
    "## Cleaning"
   ]
  },
  {
   "cell_type": "code",
   "execution_count": 13,
   "metadata": {},
   "outputs": [],
   "source": [
    "## need to remove tracer T and subsonic S at end of namesa"
   ]
  },
  {
   "cell_type": "code",
   "execution_count": 14,
   "metadata": {},
   "outputs": [
    {
     "data": {
      "text/html": [
       "<div>\n",
       "<style scoped>\n",
       "    .dataframe tbody tr th:only-of-type {\n",
       "        vertical-align: middle;\n",
       "    }\n",
       "\n",
       "    .dataframe tbody tr th {\n",
       "        vertical-align: top;\n",
       "    }\n",
       "\n",
       "    .dataframe thead th {\n",
       "        text-align: right;\n",
       "    }\n",
       "</style>\n",
       "<table border=\"1\" class=\"dataframe\">\n",
       "  <thead>\n",
       "    <tr style=\"text-align: right;\">\n",
       "      <th></th>\n",
       "      <th>Caliber</th>\n",
       "      <th>Name</th>\n",
       "      <th>Fleshdamage</th>\n",
       "      <th>Penetrationpower</th>\n",
       "      <th>Armordamage %</th>\n",
       "      <th>Accuracy%</th>\n",
       "      <th>Recoil%</th>\n",
       "      <th>Fragmentationchance*</th>\n",
       "      <th>1</th>\n",
       "      <th>2</th>\n",
       "      <th>3</th>\n",
       "      <th>4</th>\n",
       "      <th>5</th>\n",
       "      <th>6</th>\n",
       "    </tr>\n",
       "  </thead>\n",
       "  <tbody>\n",
       "    <tr>\n",
       "      <th>0</th>\n",
       "      <td>NaN</td>\n",
       "      <td>NaN</td>\n",
       "      <td>NaN</td>\n",
       "      <td>NaN</td>\n",
       "      <td>NaN</td>\n",
       "      <td>NaN</td>\n",
       "      <td>NaN</td>\n",
       "      <td>NaN</td>\n",
       "      <td>NaN</td>\n",
       "      <td>NaN</td>\n",
       "      <td>NaN</td>\n",
       "      <td>NaN</td>\n",
       "      <td>NaN</td>\n",
       "      <td>NaN</td>\n",
       "    </tr>\n",
       "    <tr>\n",
       "      <th>1</th>\n",
       "      <td>12/70 shot</td>\n",
       "      <td>12/70 5.25mm Buckshot**</td>\n",
       "      <td>8x34</td>\n",
       "      <td>1.0</td>\n",
       "      <td>15.0</td>\n",
       "      <td>NaN</td>\n",
       "      <td>NaN</td>\n",
       "      <td>0%</td>\n",
       "      <td>3.0</td>\n",
       "      <td>3.0</td>\n",
       "      <td>3.0</td>\n",
       "      <td>3.0</td>\n",
       "      <td>3.0</td>\n",
       "      <td>3.0</td>\n",
       "    </tr>\n",
       "    <tr>\n",
       "      <th>2</th>\n",
       "      <td>12/70 shot</td>\n",
       "      <td>12/70 8.5 mm \"Magnum\" Buckshot**</td>\n",
       "      <td>8x44</td>\n",
       "      <td>2.0</td>\n",
       "      <td>26.0</td>\n",
       "      <td>-15.0</td>\n",
       "      <td>115.0</td>\n",
       "      <td>0%</td>\n",
       "      <td>3.0</td>\n",
       "      <td>3.0</td>\n",
       "      <td>3.0</td>\n",
       "      <td>3.0</td>\n",
       "      <td>3.0</td>\n",
       "      <td>3.0</td>\n",
       "    </tr>\n",
       "    <tr>\n",
       "      <th>3</th>\n",
       "      <td>12/70 shot</td>\n",
       "      <td>12x70 6.5 mm \"Express\" Buckshot**</td>\n",
       "      <td>9x29</td>\n",
       "      <td>3.0</td>\n",
       "      <td>26.0</td>\n",
       "      <td>15.0</td>\n",
       "      <td>NaN</td>\n",
       "      <td>0%</td>\n",
       "      <td>3.0</td>\n",
       "      <td>3.0</td>\n",
       "      <td>3.0</td>\n",
       "      <td>3.0</td>\n",
       "      <td>3.0</td>\n",
       "      <td>3.0</td>\n",
       "    </tr>\n",
       "    <tr>\n",
       "      <th>4</th>\n",
       "      <td>12/70 shot</td>\n",
       "      <td>12x70 7mm Buckshot**</td>\n",
       "      <td>8x32</td>\n",
       "      <td>3.0</td>\n",
       "      <td>26.0</td>\n",
       "      <td>NaN</td>\n",
       "      <td>NaN</td>\n",
       "      <td>0%</td>\n",
       "      <td>3.0</td>\n",
       "      <td>3.0</td>\n",
       "      <td>3.0</td>\n",
       "      <td>3.0</td>\n",
       "      <td>3.0</td>\n",
       "      <td>3.0</td>\n",
       "    </tr>\n",
       "  </tbody>\n",
       "</table>\n",
       "</div>"
      ],
      "text/plain": [
       "      Caliber                               Name Fleshdamage  \\\n",
       "0         NaN                                NaN         NaN   \n",
       "1  12/70 shot            12/70 5.25mm Buckshot**        8x34   \n",
       "2  12/70 shot   12/70 8.5 mm \"Magnum\" Buckshot**        8x44   \n",
       "3  12/70 shot  12x70 6.5 mm \"Express\" Buckshot**        9x29   \n",
       "4  12/70 shot               12x70 7mm Buckshot**        8x32   \n",
       "\n",
       "   Penetrationpower  Armordamage %  Accuracy%  Recoil% Fragmentationchance*  \\\n",
       "0               NaN            NaN        NaN      NaN                  NaN   \n",
       "1               1.0           15.0        NaN      NaN                   0%   \n",
       "2               2.0           26.0      -15.0    115.0                   0%   \n",
       "3               3.0           26.0       15.0      NaN                   0%   \n",
       "4               3.0           26.0        NaN      NaN                   0%   \n",
       "\n",
       "     1    2    3    4    5    6  \n",
       "0  NaN  NaN  NaN  NaN  NaN  NaN  \n",
       "1  3.0  3.0  3.0  3.0  3.0  3.0  \n",
       "2  3.0  3.0  3.0  3.0  3.0  3.0  \n",
       "3  3.0  3.0  3.0  3.0  3.0  3.0  \n",
       "4  3.0  3.0  3.0  3.0  3.0  3.0  "
      ]
     },
     "execution_count": 14,
     "metadata": {},
     "output_type": "execute_result"
    }
   ],
   "source": [
    "df.head()"
   ]
  },
  {
   "cell_type": "code",
   "execution_count": 15,
   "metadata": {},
   "outputs": [],
   "source": [
    "df.drop(index=0,inplace=True)"
   ]
  },
  {
   "cell_type": "code",
   "execution_count": 16,
   "metadata": {},
   "outputs": [],
   "source": [
    "df['Name'] = df['Name'].fillna(0).apply(lambda x: x.replace('*',''))\n",
    "df.fillna(0,inplace=True)"
   ]
  },
  {
   "cell_type": "code",
   "execution_count": 17,
   "metadata": {},
   "outputs": [],
   "source": [
    "new_names = []\n",
    "for name in df['Name']:\n",
    "    if (name[-4:] == ' T S'):\n",
    "        df.loc[df['Name'] == name,'Name'] = name[:-4]\n",
    "        new_names.append(name[:-4])\n",
    "    if (name[-2:] == ' S'):\n",
    "        df.loc[df['Name'] == name,'Name'] = name[:-2]\n",
    "        new_names.append(name[:-2])\n",
    "    if (name[-2:] == ' T'):\n",
    "        df.loc[df['Name'] == name,'Name'] = name[:-2]\n",
    "        new_names.append(name[:-2])\n"
   ]
  },
  {
   "cell_type": "code",
   "execution_count": 18,
   "metadata": {},
   "outputs": [
    {
     "data": {
      "text/html": [
       "<div>\n",
       "<style scoped>\n",
       "    .dataframe tbody tr th:only-of-type {\n",
       "        vertical-align: middle;\n",
       "    }\n",
       "\n",
       "    .dataframe tbody tr th {\n",
       "        vertical-align: top;\n",
       "    }\n",
       "\n",
       "    .dataframe thead th {\n",
       "        text-align: right;\n",
       "    }\n",
       "</style>\n",
       "<table border=\"1\" class=\"dataframe\">\n",
       "  <thead>\n",
       "    <tr style=\"text-align: right;\">\n",
       "      <th></th>\n",
       "      <th>Caliber</th>\n",
       "      <th>Name</th>\n",
       "      <th>Fleshdamage</th>\n",
       "      <th>Penetrationpower</th>\n",
       "      <th>Armordamage %</th>\n",
       "      <th>Accuracy%</th>\n",
       "      <th>Recoil%</th>\n",
       "      <th>Fragmentationchance*</th>\n",
       "      <th>1</th>\n",
       "      <th>2</th>\n",
       "      <th>3</th>\n",
       "      <th>4</th>\n",
       "      <th>5</th>\n",
       "      <th>6</th>\n",
       "    </tr>\n",
       "  </thead>\n",
       "  <tbody>\n",
       "    <tr>\n",
       "      <th>1</th>\n",
       "      <td>12/70 shot</td>\n",
       "      <td>12/70 5.25mm Buckshot</td>\n",
       "      <td>8x34</td>\n",
       "      <td>1.0</td>\n",
       "      <td>15.0</td>\n",
       "      <td>0.0</td>\n",
       "      <td>0.0</td>\n",
       "      <td>0%</td>\n",
       "      <td>3.0</td>\n",
       "      <td>3.0</td>\n",
       "      <td>3.0</td>\n",
       "      <td>3.0</td>\n",
       "      <td>3.0</td>\n",
       "      <td>3.0</td>\n",
       "    </tr>\n",
       "    <tr>\n",
       "      <th>2</th>\n",
       "      <td>12/70 shot</td>\n",
       "      <td>12/70 8.5 mm \"Magnum\" Buckshot</td>\n",
       "      <td>8x44</td>\n",
       "      <td>2.0</td>\n",
       "      <td>26.0</td>\n",
       "      <td>-15.0</td>\n",
       "      <td>115.0</td>\n",
       "      <td>0%</td>\n",
       "      <td>3.0</td>\n",
       "      <td>3.0</td>\n",
       "      <td>3.0</td>\n",
       "      <td>3.0</td>\n",
       "      <td>3.0</td>\n",
       "      <td>3.0</td>\n",
       "    </tr>\n",
       "    <tr>\n",
       "      <th>3</th>\n",
       "      <td>12/70 shot</td>\n",
       "      <td>12x70 6.5 mm \"Express\" Buckshot</td>\n",
       "      <td>9x29</td>\n",
       "      <td>3.0</td>\n",
       "      <td>26.0</td>\n",
       "      <td>15.0</td>\n",
       "      <td>0.0</td>\n",
       "      <td>0%</td>\n",
       "      <td>3.0</td>\n",
       "      <td>3.0</td>\n",
       "      <td>3.0</td>\n",
       "      <td>3.0</td>\n",
       "      <td>3.0</td>\n",
       "      <td>3.0</td>\n",
       "    </tr>\n",
       "    <tr>\n",
       "      <th>4</th>\n",
       "      <td>12/70 shot</td>\n",
       "      <td>12x70 7mm Buckshot</td>\n",
       "      <td>8x32</td>\n",
       "      <td>3.0</td>\n",
       "      <td>26.0</td>\n",
       "      <td>0.0</td>\n",
       "      <td>0.0</td>\n",
       "      <td>0%</td>\n",
       "      <td>3.0</td>\n",
       "      <td>3.0</td>\n",
       "      <td>3.0</td>\n",
       "      <td>3.0</td>\n",
       "      <td>3.0</td>\n",
       "      <td>3.0</td>\n",
       "    </tr>\n",
       "    <tr>\n",
       "      <th>5</th>\n",
       "      <td>12/70 shot</td>\n",
       "      <td>12/70 Flechette</td>\n",
       "      <td>8x19</td>\n",
       "      <td>28.0</td>\n",
       "      <td>26.0</td>\n",
       "      <td>-25.0</td>\n",
       "      <td>0.0</td>\n",
       "      <td>0%</td>\n",
       "      <td>6.0</td>\n",
       "      <td>6.0</td>\n",
       "      <td>5.0</td>\n",
       "      <td>4.0</td>\n",
       "      <td>3.0</td>\n",
       "      <td>3.0</td>\n",
       "    </tr>\n",
       "  </tbody>\n",
       "</table>\n",
       "</div>"
      ],
      "text/plain": [
       "      Caliber                             Name Fleshdamage  Penetrationpower  \\\n",
       "1  12/70 shot            12/70 5.25mm Buckshot        8x34               1.0   \n",
       "2  12/70 shot   12/70 8.5 mm \"Magnum\" Buckshot        8x44               2.0   \n",
       "3  12/70 shot  12x70 6.5 mm \"Express\" Buckshot        9x29               3.0   \n",
       "4  12/70 shot               12x70 7mm Buckshot        8x32               3.0   \n",
       "5  12/70 shot                  12/70 Flechette        8x19              28.0   \n",
       "\n",
       "   Armordamage %  Accuracy%  Recoil% Fragmentationchance*    1    2    3    4  \\\n",
       "1           15.0        0.0      0.0                   0%  3.0  3.0  3.0  3.0   \n",
       "2           26.0      -15.0    115.0                   0%  3.0  3.0  3.0  3.0   \n",
       "3           26.0       15.0      0.0                   0%  3.0  3.0  3.0  3.0   \n",
       "4           26.0        0.0      0.0                   0%  3.0  3.0  3.0  3.0   \n",
       "5           26.0      -25.0      0.0                   0%  6.0  6.0  5.0  4.0   \n",
       "\n",
       "     5    6  \n",
       "1  3.0  3.0  \n",
       "2  3.0  3.0  \n",
       "3  3.0  3.0  \n",
       "4  3.0  3.0  \n",
       "5  3.0  3.0  "
      ]
     },
     "execution_count": 18,
     "metadata": {},
     "output_type": "execute_result"
    }
   ],
   "source": [
    "df.head()"
   ]
  },
  {
   "cell_type": "code",
   "execution_count": 19,
   "metadata": {},
   "outputs": [
    {
     "data": {
      "text/plain": [
       "9x18mm Makarov        14\n",
       "5.45x39mm             12\n",
       "12/70 slugs           11\n",
       "5.56x45mm NATO         9\n",
       "20x70mm                8\n",
       "7.62x25mm Tokarev      7\n",
       "5.7x28mm FN            7\n",
       "7.62x54mmR             6\n",
       "7.62x51mm NATO         6\n",
       "9x19mm Parabellum      6\n",
       "12/70 shot             5\n",
       "7.62x39mm              5\n",
       "9x21mm Gyurza          4\n",
       "4.6x30mm HK            4\n",
       "9x39mm                 4\n",
       "Stationary Weapons     3\n",
       ".366 TKM               3\n",
       "12.7x55mm STs-130      3\n",
       "Name: Caliber, dtype: int64"
      ]
     },
     "execution_count": 19,
     "metadata": {},
     "output_type": "execute_result"
    }
   ],
   "source": [
    "df['Caliber'].value_counts()"
   ]
  },
  {
   "cell_type": "code",
   "execution_count": 20,
   "metadata": {},
   "outputs": [],
   "source": [
    "df['price'] = 0\n",
    "df['diff24h']= 0\n",
    "df['diff7days'] = 0\n",
    "df['updated'] = 0"
   ]
  },
  {
   "cell_type": "markdown",
   "metadata": {},
   "source": [
    "## Get Pricing Data"
   ]
  },
  {
   "cell_type": "code",
   "execution_count": 21,
   "metadata": {},
   "outputs": [],
   "source": [
    "# need to change mm to match API\n",
    "df.loc[df['Name'] == '5.56x45 mm Warmage','Name'] = '5.56x45mm Warmage'"
   ]
  },
  {
   "cell_type": "code",
   "execution_count": 22,
   "metadata": {},
   "outputs": [],
   "source": [
    "api_key = 'nTzwgv4kSJLcD3yS'\n",
    "url = 'https://tarkov-market.ru/api/v1/'"
   ]
  },
  {
   "cell_type": "code",
   "execution_count": 23,
   "metadata": {},
   "outputs": [],
   "source": [
    "headers = {\n",
    "    'x-api-key': 'nTzwgv4kSJLcD3yS',\n",
    "}"
   ]
  },
  {
   "cell_type": "code",
   "execution_count": 25,
   "metadata": {},
   "outputs": [],
   "source": [
    "params = (('q', '12/70 5.25mm Buckshot'),)\n",
    "response = requests.get('https://tarkov-market.com/api/v1/item', headers=headers, params=params)"
   ]
  },
  {
   "cell_type": "code",
   "execution_count": 27,
   "metadata": {},
   "outputs": [
    {
     "data": {
      "text/plain": [
       "'[]'"
      ]
     },
     "execution_count": 27,
     "metadata": {},
     "output_type": "execute_result"
    }
   ],
   "source": [
    "response.text"
   ]
  },
  {
   "cell_type": "code",
   "execution_count": 26,
   "metadata": {},
   "outputs": [],
   "source": [
    "missing_names = []\n",
    "unclear_name = []\n",
    "for name in df['Name']:\n",
    "\n",
    "    params = (('q', name),)\n",
    "    response = requests.get('https://tarkov-market.com/api/v1/item', headers=headers, params=params)\n",
    "    res = response.json()\n",
    "    if len(res) >= 1:\n",
    "        if res[0]['name'] == name:\n",
    "            df.loc[df['Name'] == name,'price'] = res[0]['price']\n",
    "            df.loc[df['Name'] == name,'diff24h'] = res[0]['diff24h']\n",
    "            df.loc[df['Name'] == name,'diff7days'] = res[0]['diff7days']\n",
    "            df.loc[df['Name'] == name,'updated'] = res[0]['updated']\n",
    "        else:\n",
    "            unclear_name.append(name)\n",
    "    else:\n",
    "        missing_names.append(name)\n",
    "    response.close()"
   ]
  },
  {
   "cell_type": "code",
   "execution_count": 28,
   "metadata": {},
   "outputs": [
    {
     "data": {
      "text/plain": [
       "array(['12/70 shot', '12/70 slugs', '20x70mm', '9x18mm Makarov',\n",
       "       '7.62x25mm Tokarev', '9x19mm Parabellum', '9x21mm Gyurza',\n",
       "       '5.7x28mm FN', '4.6x30mm HK', '9x39mm', '.366 TKM', '5.45x39mm',\n",
       "       '5.56x45mm NATO', '7.62x39mm', '7.62x51mm NATO', '7.62x54mmR',\n",
       "       '12.7x55mm STs-130', 'Stationary Weapons'], dtype=object)"
      ]
     },
     "execution_count": 28,
     "metadata": {},
     "output_type": "execute_result"
    }
   ],
   "source": [
    "df['Caliber'].unique()"
   ]
  },
  {
   "cell_type": "code",
   "execution_count": 29,
   "metadata": {},
   "outputs": [
    {
     "data": {
      "text/plain": [
       "Index(['Caliber', 'Name', 'Fleshdamage', 'Penetrationpower', 'Armordamage %',\n",
       "       'Accuracy%', 'Recoil%', 'Fragmentationchance*', '1', '2', '3', '4', '5',\n",
       "       '6', 'price', 'diff24h', 'diff7days', 'updated'],\n",
       "      dtype='object')"
      ]
     },
     "execution_count": 29,
     "metadata": {},
     "output_type": "execute_result"
    }
   ],
   "source": [
    "df.columns"
   ]
  },
  {
   "cell_type": "code",
   "execution_count": 30,
   "metadata": {},
   "outputs": [],
   "source": [
    "cols_rename = {'Caliber':'Caliber',\n",
    "                'Name':'Bullet Name',\n",
    "              'Fleshdamage':'Flesh Damage',\n",
    "              'Penetrationpower':'Penetration Power',\n",
    "              'Armordamage\\xa0%':'Armor Damage (%)',\n",
    "              'Accuracy%':'Accuracy (%)',\n",
    "              'Recoil%':'Recoil (%)',\n",
    "              'Fragmentationchance*': 'Fragmentation Chance (%)',\n",
    "              '1':'Pentration Armor One',\n",
    "              '2':'Pentration Armor Two',\n",
    "              '3':'Pentration Armor Three',\n",
    "              '4':'Pentration Armor Four',\n",
    "              '5':'Pentration Armor Five',\n",
    "              '6':'Pentration Armor Six',\n",
    "              'price':'Current Price',\n",
    "              'diff24h':'24 hour Price Diff',\n",
    "              'diff7days':'1 week Price Diff',\n",
    "              'updated':'Last Updated'}"
   ]
  },
  {
   "cell_type": "code",
   "execution_count": 31,
   "metadata": {},
   "outputs": [],
   "source": [
    "df.rename(columns=cols_rename,inplace=True)"
   ]
  },
  {
   "cell_type": "code",
   "execution_count": 32,
   "metadata": {},
   "outputs": [],
   "source": [
    "df.rename(columns={'Armordamage\\xa0%':'Armor Damage (%)'},inplace=True)"
   ]
  },
  {
   "cell_type": "code",
   "execution_count": 33,
   "metadata": {},
   "outputs": [],
   "source": [
    "# convert 8x19 to total pellet damage\n",
    "flesh_d = df.loc[df['Flesh Damage'].str.contains('x')]['Flesh Damage']"
   ]
  },
  {
   "cell_type": "code",
   "execution_count": 34,
   "metadata": {},
   "outputs": [],
   "source": [
    "total_flesh = []\n",
    "for item in flesh_d:\n",
    "    total_flesh.append(int(item[0]) * int(item[2:]))"
   ]
  },
  {
   "cell_type": "code",
   "execution_count": 35,
   "metadata": {},
   "outputs": [],
   "source": [
    "df.loc[df['Flesh Damage'].str.contains('x'), 'Flesh Damage'] = total_flesh"
   ]
  },
  {
   "cell_type": "code",
   "execution_count": 36,
   "metadata": {},
   "outputs": [],
   "source": [
    "df['Flesh Damage'] = pd.to_numeric(df['Flesh Damage'])"
   ]
  },
  {
   "cell_type": "code",
   "execution_count": 37,
   "metadata": {},
   "outputs": [
    {
     "data": {
      "text/html": [
       "<div>\n",
       "<style scoped>\n",
       "    .dataframe tbody tr th:only-of-type {\n",
       "        vertical-align: middle;\n",
       "    }\n",
       "\n",
       "    .dataframe tbody tr th {\n",
       "        vertical-align: top;\n",
       "    }\n",
       "\n",
       "    .dataframe thead th {\n",
       "        text-align: right;\n",
       "    }\n",
       "</style>\n",
       "<table border=\"1\" class=\"dataframe\">\n",
       "  <thead>\n",
       "    <tr style=\"text-align: right;\">\n",
       "      <th></th>\n",
       "      <th>Caliber</th>\n",
       "      <th>Bullet Name</th>\n",
       "      <th>Flesh Damage</th>\n",
       "      <th>Penetration Power</th>\n",
       "      <th>Armor Damage (%)</th>\n",
       "      <th>Accuracy (%)</th>\n",
       "      <th>Recoil (%)</th>\n",
       "      <th>Fragmentation Chance (%)</th>\n",
       "      <th>Pentration Armor One</th>\n",
       "      <th>Pentration Armor Two</th>\n",
       "      <th>Pentration Armor Three</th>\n",
       "      <th>Pentration Armor Four</th>\n",
       "      <th>Pentration Armor Five</th>\n",
       "      <th>Pentration Armor Six</th>\n",
       "      <th>Current Price</th>\n",
       "      <th>24 hour Price Diff</th>\n",
       "      <th>1 week Price Diff</th>\n",
       "      <th>Last Updated</th>\n",
       "    </tr>\n",
       "  </thead>\n",
       "  <tbody>\n",
       "    <tr>\n",
       "      <th>1</th>\n",
       "      <td>12/70 shot</td>\n",
       "      <td>12/70 5.25mm Buckshot</td>\n",
       "      <td>272</td>\n",
       "      <td>1.0</td>\n",
       "      <td>15.0</td>\n",
       "      <td>0.0</td>\n",
       "      <td>0.0</td>\n",
       "      <td>0%</td>\n",
       "      <td>3.0</td>\n",
       "      <td>3.0</td>\n",
       "      <td>3.0</td>\n",
       "      <td>3.0</td>\n",
       "      <td>3.0</td>\n",
       "      <td>3.0</td>\n",
       "      <td>30</td>\n",
       "      <td>-51.61</td>\n",
       "      <td>-57.14</td>\n",
       "      <td>2020-03-14T19:50:20.259Z</td>\n",
       "    </tr>\n",
       "    <tr>\n",
       "      <th>2</th>\n",
       "      <td>12/70 shot</td>\n",
       "      <td>12/70 8.5 mm \"Magnum\" Buckshot</td>\n",
       "      <td>352</td>\n",
       "      <td>2.0</td>\n",
       "      <td>26.0</td>\n",
       "      <td>-15.0</td>\n",
       "      <td>115.0</td>\n",
       "      <td>0%</td>\n",
       "      <td>3.0</td>\n",
       "      <td>3.0</td>\n",
       "      <td>3.0</td>\n",
       "      <td>3.0</td>\n",
       "      <td>3.0</td>\n",
       "      <td>3.0</td>\n",
       "      <td>48</td>\n",
       "      <td>-58.62</td>\n",
       "      <td>-71.26</td>\n",
       "      <td>2020-03-14T19:50:05.233Z</td>\n",
       "    </tr>\n",
       "    <tr>\n",
       "      <th>3</th>\n",
       "      <td>12/70 shot</td>\n",
       "      <td>12x70 6.5 mm \"Express\" Buckshot</td>\n",
       "      <td>261</td>\n",
       "      <td>3.0</td>\n",
       "      <td>26.0</td>\n",
       "      <td>15.0</td>\n",
       "      <td>0.0</td>\n",
       "      <td>0%</td>\n",
       "      <td>3.0</td>\n",
       "      <td>3.0</td>\n",
       "      <td>3.0</td>\n",
       "      <td>3.0</td>\n",
       "      <td>3.0</td>\n",
       "      <td>3.0</td>\n",
       "      <td>29</td>\n",
       "      <td>-58.57</td>\n",
       "      <td>-72.38</td>\n",
       "      <td>2020-03-14T15:20:53.114Z</td>\n",
       "    </tr>\n",
       "    <tr>\n",
       "      <th>4</th>\n",
       "      <td>12/70 shot</td>\n",
       "      <td>12x70 7mm Buckshot</td>\n",
       "      <td>256</td>\n",
       "      <td>3.0</td>\n",
       "      <td>26.0</td>\n",
       "      <td>0.0</td>\n",
       "      <td>0.0</td>\n",
       "      <td>0%</td>\n",
       "      <td>3.0</td>\n",
       "      <td>3.0</td>\n",
       "      <td>3.0</td>\n",
       "      <td>3.0</td>\n",
       "      <td>3.0</td>\n",
       "      <td>3.0</td>\n",
       "      <td>25</td>\n",
       "      <td>-3.85</td>\n",
       "      <td>-3.85</td>\n",
       "      <td>2020-03-14T19:45:28.182Z</td>\n",
       "    </tr>\n",
       "    <tr>\n",
       "      <th>5</th>\n",
       "      <td>12/70 shot</td>\n",
       "      <td>12/70 Flechette</td>\n",
       "      <td>152</td>\n",
       "      <td>28.0</td>\n",
       "      <td>26.0</td>\n",
       "      <td>-25.0</td>\n",
       "      <td>0.0</td>\n",
       "      <td>0%</td>\n",
       "      <td>6.0</td>\n",
       "      <td>6.0</td>\n",
       "      <td>5.0</td>\n",
       "      <td>4.0</td>\n",
       "      <td>3.0</td>\n",
       "      <td>3.0</td>\n",
       "      <td>99</td>\n",
       "      <td>-1.98</td>\n",
       "      <td>-3.88</td>\n",
       "      <td>2020-03-14T19:44:48.200Z</td>\n",
       "    </tr>\n",
       "  </tbody>\n",
       "</table>\n",
       "</div>"
      ],
      "text/plain": [
       "      Caliber                      Bullet Name  Flesh Damage  \\\n",
       "1  12/70 shot            12/70 5.25mm Buckshot           272   \n",
       "2  12/70 shot   12/70 8.5 mm \"Magnum\" Buckshot           352   \n",
       "3  12/70 shot  12x70 6.5 mm \"Express\" Buckshot           261   \n",
       "4  12/70 shot               12x70 7mm Buckshot           256   \n",
       "5  12/70 shot                  12/70 Flechette           152   \n",
       "\n",
       "   Penetration Power  Armor Damage (%)  Accuracy (%)  Recoil (%)  \\\n",
       "1                1.0              15.0           0.0         0.0   \n",
       "2                2.0              26.0         -15.0       115.0   \n",
       "3                3.0              26.0          15.0         0.0   \n",
       "4                3.0              26.0           0.0         0.0   \n",
       "5               28.0              26.0         -25.0         0.0   \n",
       "\n",
       "  Fragmentation Chance (%)  Pentration Armor One  Pentration Armor Two  \\\n",
       "1                       0%                   3.0                   3.0   \n",
       "2                       0%                   3.0                   3.0   \n",
       "3                       0%                   3.0                   3.0   \n",
       "4                       0%                   3.0                   3.0   \n",
       "5                       0%                   6.0                   6.0   \n",
       "\n",
       "   Pentration Armor Three  Pentration Armor Four  Pentration Armor Five  \\\n",
       "1                     3.0                    3.0                    3.0   \n",
       "2                     3.0                    3.0                    3.0   \n",
       "3                     3.0                    3.0                    3.0   \n",
       "4                     3.0                    3.0                    3.0   \n",
       "5                     5.0                    4.0                    3.0   \n",
       "\n",
       "   Pentration Armor Six  Current Price  24 hour Price Diff  1 week Price Diff  \\\n",
       "1                   3.0             30              -51.61             -57.14   \n",
       "2                   3.0             48              -58.62             -71.26   \n",
       "3                   3.0             29              -58.57             -72.38   \n",
       "4                   3.0             25               -3.85              -3.85   \n",
       "5                   3.0             99               -1.98              -3.88   \n",
       "\n",
       "               Last Updated  \n",
       "1  2020-03-14T19:50:20.259Z  \n",
       "2  2020-03-14T19:50:05.233Z  \n",
       "3  2020-03-14T15:20:53.114Z  \n",
       "4  2020-03-14T19:45:28.182Z  \n",
       "5  2020-03-14T19:44:48.200Z  "
      ]
     },
     "execution_count": 37,
     "metadata": {},
     "output_type": "execute_result"
    }
   ],
   "source": [
    "df.head()"
   ]
  },
  {
   "cell_type": "code",
   "execution_count": 38,
   "metadata": {},
   "outputs": [],
   "source": [
    "df['Pen Power by Price'] = df['Penetration Power'] / df['Current Price']\n",
    "df['Flesh Damage by Price'] = df['Flesh Damage'] / df['Current Price']"
   ]
  },
  {
   "cell_type": "code",
   "execution_count": 39,
   "metadata": {},
   "outputs": [],
   "source": [
    "df.replace(np.inf,0,inplace=True)"
   ]
  },
  {
   "cell_type": "markdown",
   "metadata": {},
   "source": [
    "## Cleaning New DF"
   ]
  },
  {
   "cell_type": "code",
   "execution_count": 40,
   "metadata": {},
   "outputs": [],
   "source": [
    "df.to_csv('init.csv')"
   ]
  },
  {
   "cell_type": "code",
   "execution_count": 41,
   "metadata": {},
   "outputs": [
    {
     "data": {
      "text/html": [
       "<div>\n",
       "<style scoped>\n",
       "    .dataframe tbody tr th:only-of-type {\n",
       "        vertical-align: middle;\n",
       "    }\n",
       "\n",
       "    .dataframe tbody tr th {\n",
       "        vertical-align: top;\n",
       "    }\n",
       "\n",
       "    .dataframe thead th {\n",
       "        text-align: right;\n",
       "    }\n",
       "</style>\n",
       "<table border=\"1\" class=\"dataframe\">\n",
       "  <thead>\n",
       "    <tr style=\"text-align: right;\">\n",
       "      <th></th>\n",
       "      <th>Caliber</th>\n",
       "      <th>Bullet Name</th>\n",
       "      <th>Flesh Damage</th>\n",
       "      <th>Penetration Power</th>\n",
       "      <th>Armor Damage (%)</th>\n",
       "      <th>Accuracy (%)</th>\n",
       "      <th>Recoil (%)</th>\n",
       "      <th>Fragmentation Chance (%)</th>\n",
       "      <th>Pentration Armor One</th>\n",
       "      <th>Pentration Armor Two</th>\n",
       "      <th>Pentration Armor Three</th>\n",
       "      <th>Pentration Armor Four</th>\n",
       "      <th>Pentration Armor Five</th>\n",
       "      <th>Pentration Armor Six</th>\n",
       "      <th>Current Price</th>\n",
       "      <th>24 hour Price Diff</th>\n",
       "      <th>1 week Price Diff</th>\n",
       "      <th>Last Updated</th>\n",
       "      <th>Pen Power by Price</th>\n",
       "      <th>Flesh Damage by Price</th>\n",
       "    </tr>\n",
       "  </thead>\n",
       "  <tbody>\n",
       "    <tr>\n",
       "      <th>1</th>\n",
       "      <td>12/70 shot</td>\n",
       "      <td>12/70 5.25mm Buckshot</td>\n",
       "      <td>272</td>\n",
       "      <td>1.0</td>\n",
       "      <td>15.0</td>\n",
       "      <td>0.0</td>\n",
       "      <td>0.0</td>\n",
       "      <td>0%</td>\n",
       "      <td>3.0</td>\n",
       "      <td>3.0</td>\n",
       "      <td>3.0</td>\n",
       "      <td>3.0</td>\n",
       "      <td>3.0</td>\n",
       "      <td>3.0</td>\n",
       "      <td>30</td>\n",
       "      <td>-51.61</td>\n",
       "      <td>-57.14</td>\n",
       "      <td>2020-03-14T19:50:20.259Z</td>\n",
       "      <td>0.033333</td>\n",
       "      <td>9.066667</td>\n",
       "    </tr>\n",
       "    <tr>\n",
       "      <th>2</th>\n",
       "      <td>12/70 shot</td>\n",
       "      <td>12/70 8.5 mm \"Magnum\" Buckshot</td>\n",
       "      <td>352</td>\n",
       "      <td>2.0</td>\n",
       "      <td>26.0</td>\n",
       "      <td>-15.0</td>\n",
       "      <td>115.0</td>\n",
       "      <td>0%</td>\n",
       "      <td>3.0</td>\n",
       "      <td>3.0</td>\n",
       "      <td>3.0</td>\n",
       "      <td>3.0</td>\n",
       "      <td>3.0</td>\n",
       "      <td>3.0</td>\n",
       "      <td>48</td>\n",
       "      <td>-58.62</td>\n",
       "      <td>-71.26</td>\n",
       "      <td>2020-03-14T19:50:05.233Z</td>\n",
       "      <td>0.041667</td>\n",
       "      <td>7.333333</td>\n",
       "    </tr>\n",
       "    <tr>\n",
       "      <th>3</th>\n",
       "      <td>12/70 shot</td>\n",
       "      <td>12x70 6.5 mm \"Express\" Buckshot</td>\n",
       "      <td>261</td>\n",
       "      <td>3.0</td>\n",
       "      <td>26.0</td>\n",
       "      <td>15.0</td>\n",
       "      <td>0.0</td>\n",
       "      <td>0%</td>\n",
       "      <td>3.0</td>\n",
       "      <td>3.0</td>\n",
       "      <td>3.0</td>\n",
       "      <td>3.0</td>\n",
       "      <td>3.0</td>\n",
       "      <td>3.0</td>\n",
       "      <td>29</td>\n",
       "      <td>-58.57</td>\n",
       "      <td>-72.38</td>\n",
       "      <td>2020-03-14T15:20:53.114Z</td>\n",
       "      <td>0.103448</td>\n",
       "      <td>9.000000</td>\n",
       "    </tr>\n",
       "    <tr>\n",
       "      <th>4</th>\n",
       "      <td>12/70 shot</td>\n",
       "      <td>12x70 7mm Buckshot</td>\n",
       "      <td>256</td>\n",
       "      <td>3.0</td>\n",
       "      <td>26.0</td>\n",
       "      <td>0.0</td>\n",
       "      <td>0.0</td>\n",
       "      <td>0%</td>\n",
       "      <td>3.0</td>\n",
       "      <td>3.0</td>\n",
       "      <td>3.0</td>\n",
       "      <td>3.0</td>\n",
       "      <td>3.0</td>\n",
       "      <td>3.0</td>\n",
       "      <td>25</td>\n",
       "      <td>-3.85</td>\n",
       "      <td>-3.85</td>\n",
       "      <td>2020-03-14T19:45:28.182Z</td>\n",
       "      <td>0.120000</td>\n",
       "      <td>10.240000</td>\n",
       "    </tr>\n",
       "    <tr>\n",
       "      <th>5</th>\n",
       "      <td>12/70 shot</td>\n",
       "      <td>12/70 Flechette</td>\n",
       "      <td>152</td>\n",
       "      <td>28.0</td>\n",
       "      <td>26.0</td>\n",
       "      <td>-25.0</td>\n",
       "      <td>0.0</td>\n",
       "      <td>0%</td>\n",
       "      <td>6.0</td>\n",
       "      <td>6.0</td>\n",
       "      <td>5.0</td>\n",
       "      <td>4.0</td>\n",
       "      <td>3.0</td>\n",
       "      <td>3.0</td>\n",
       "      <td>99</td>\n",
       "      <td>-1.98</td>\n",
       "      <td>-3.88</td>\n",
       "      <td>2020-03-14T19:44:48.200Z</td>\n",
       "      <td>0.282828</td>\n",
       "      <td>1.535354</td>\n",
       "    </tr>\n",
       "  </tbody>\n",
       "</table>\n",
       "</div>"
      ],
      "text/plain": [
       "      Caliber                      Bullet Name  Flesh Damage  \\\n",
       "1  12/70 shot            12/70 5.25mm Buckshot           272   \n",
       "2  12/70 shot   12/70 8.5 mm \"Magnum\" Buckshot           352   \n",
       "3  12/70 shot  12x70 6.5 mm \"Express\" Buckshot           261   \n",
       "4  12/70 shot               12x70 7mm Buckshot           256   \n",
       "5  12/70 shot                  12/70 Flechette           152   \n",
       "\n",
       "   Penetration Power  Armor Damage (%)  Accuracy (%)  Recoil (%)  \\\n",
       "1                1.0              15.0           0.0         0.0   \n",
       "2                2.0              26.0         -15.0       115.0   \n",
       "3                3.0              26.0          15.0         0.0   \n",
       "4                3.0              26.0           0.0         0.0   \n",
       "5               28.0              26.0         -25.0         0.0   \n",
       "\n",
       "  Fragmentation Chance (%)  Pentration Armor One  Pentration Armor Two  \\\n",
       "1                       0%                   3.0                   3.0   \n",
       "2                       0%                   3.0                   3.0   \n",
       "3                       0%                   3.0                   3.0   \n",
       "4                       0%                   3.0                   3.0   \n",
       "5                       0%                   6.0                   6.0   \n",
       "\n",
       "   Pentration Armor Three  Pentration Armor Four  Pentration Armor Five  \\\n",
       "1                     3.0                    3.0                    3.0   \n",
       "2                     3.0                    3.0                    3.0   \n",
       "3                     3.0                    3.0                    3.0   \n",
       "4                     3.0                    3.0                    3.0   \n",
       "5                     5.0                    4.0                    3.0   \n",
       "\n",
       "   Pentration Armor Six  Current Price  24 hour Price Diff  1 week Price Diff  \\\n",
       "1                   3.0             30              -51.61             -57.14   \n",
       "2                   3.0             48              -58.62             -71.26   \n",
       "3                   3.0             29              -58.57             -72.38   \n",
       "4                   3.0             25               -3.85              -3.85   \n",
       "5                   3.0             99               -1.98              -3.88   \n",
       "\n",
       "               Last Updated  Pen Power by Price  Flesh Damage by Price  \n",
       "1  2020-03-14T19:50:20.259Z            0.033333               9.066667  \n",
       "2  2020-03-14T19:50:05.233Z            0.041667               7.333333  \n",
       "3  2020-03-14T15:20:53.114Z            0.103448               9.000000  \n",
       "4  2020-03-14T19:45:28.182Z            0.120000              10.240000  \n",
       "5  2020-03-14T19:44:48.200Z            0.282828               1.535354  "
      ]
     },
     "execution_count": 41,
     "metadata": {},
     "output_type": "execute_result"
    }
   ],
   "source": [
    "df.head()"
   ]
  },
  {
   "cell_type": "code",
   "execution_count": 54,
   "metadata": {},
   "outputs": [
    {
     "data": {
      "text/html": [
       "<div>\n",
       "<style scoped>\n",
       "    .dataframe tbody tr th:only-of-type {\n",
       "        vertical-align: middle;\n",
       "    }\n",
       "\n",
       "    .dataframe tbody tr th {\n",
       "        vertical-align: top;\n",
       "    }\n",
       "\n",
       "    .dataframe thead th {\n",
       "        text-align: right;\n",
       "    }\n",
       "</style>\n",
       "<table border=\"1\" class=\"dataframe\">\n",
       "  <thead>\n",
       "    <tr style=\"text-align: right;\">\n",
       "      <th></th>\n",
       "      <th>Current Price</th>\n",
       "      <th>Bullet Name</th>\n",
       "    </tr>\n",
       "  </thead>\n",
       "  <tbody>\n",
       "    <tr>\n",
       "      <th>117</th>\n",
       "      <td>0</td>\n",
       "      <td>12.7x108 mm BZT-44M</td>\n",
       "    </tr>\n",
       "    <tr>\n",
       "      <th>115</th>\n",
       "      <td>0</td>\n",
       "      <td>30x29 mm VOG-30</td>\n",
       "    </tr>\n",
       "    <tr>\n",
       "      <th>116</th>\n",
       "      <td>0</td>\n",
       "      <td>12.7x108 mm B-32</td>\n",
       "    </tr>\n",
       "    <tr>\n",
       "      <th>28</th>\n",
       "      <td>0</td>\n",
       "      <td>9x18 mm PM 9 P gzh</td>\n",
       "    </tr>\n",
       "    <tr>\n",
       "      <th>19</th>\n",
       "      <td>15</td>\n",
       "      <td>20x70 7.5mm Buckshot</td>\n",
       "    </tr>\n",
       "    <tr>\n",
       "      <th>...</th>\n",
       "      <td>...</td>\n",
       "      <td>...</td>\n",
       "    </tr>\n",
       "    <tr>\n",
       "      <th>84</th>\n",
       "      <td>930</td>\n",
       "      <td>5.45x39 mm BS</td>\n",
       "    </tr>\n",
       "    <tr>\n",
       "      <th>111</th>\n",
       "      <td>1110</td>\n",
       "      <td>7.62x54R 7N37</td>\n",
       "    </tr>\n",
       "    <tr>\n",
       "      <th>94</th>\n",
       "      <td>1290</td>\n",
       "      <td>5.56x45 mm M995</td>\n",
       "    </tr>\n",
       "    <tr>\n",
       "      <th>105</th>\n",
       "      <td>1364</td>\n",
       "      <td>7.62x51 mm M61</td>\n",
       "    </tr>\n",
       "    <tr>\n",
       "      <th>70</th>\n",
       "      <td>1480</td>\n",
       "      <td>9x39 mm 7N12 BP</td>\n",
       "    </tr>\n",
       "  </tbody>\n",
       "</table>\n",
       "<p>117 rows × 2 columns</p>\n",
       "</div>"
      ],
      "text/plain": [
       "     Current Price           Bullet Name\n",
       "117              0   12.7x108 mm BZT-44M\n",
       "115              0       30x29 mm VOG-30\n",
       "116              0      12.7x108 mm B-32\n",
       "28               0    9x18 mm PM 9 P gzh\n",
       "19              15  20x70 7.5mm Buckshot\n",
       "..             ...                   ...\n",
       "84             930         5.45x39 mm BS\n",
       "111           1110         7.62x54R 7N37\n",
       "94            1290       5.56x45 mm M995\n",
       "105           1364        7.62x51 mm M61\n",
       "70            1480       9x39 mm 7N12 BP\n",
       "\n",
       "[117 rows x 2 columns]"
      ]
     },
     "execution_count": 54,
     "metadata": {},
     "output_type": "execute_result"
    }
   ],
   "source": [
    "df[['Current Price','Bullet Name']].sort_values(by='Current Price')"
   ]
  },
  {
   "cell_type": "code",
   "execution_count": 42,
   "metadata": {},
   "outputs": [
    {
     "ename": "SyntaxError",
     "evalue": "invalid syntax (<ipython-input-42-1c76183a4d2e>, line 1)",
     "output_type": "error",
     "traceback": [
      "\u001b[0;36m  File \u001b[0;32m\"<ipython-input-42-1c76183a4d2e>\"\u001b[0;36m, line \u001b[0;32m1\u001b[0m\n\u001b[0;31m    [['Pentration Armor One':'Pentration Armor Six']]\u001b[0m\n\u001b[0m                            ^\u001b[0m\n\u001b[0;31mSyntaxError\u001b[0m\u001b[0;31m:\u001b[0m invalid syntax\n"
     ]
    }
   ],
   "source": [
    "[['Pentration Armor One':'Pentration Armor Six']]"
   ]
  },
  {
   "cell_type": "code",
   "execution_count": null,
   "metadata": {},
   "outputs": [],
   "source": [
    "t = df.loc[df['Bullet Name'] == '12/70 Grizzly 40 Slug']"
   ]
  },
  {
   "cell_type": "code",
   "execution_count": null,
   "metadata": {},
   "outputs": [],
   "source": [
    "t.loc['Pentration Armor One':'Pentration Armor Six']"
   ]
  },
  {
   "cell_type": "code",
   "execution_count": null,
   "metadata": {},
   "outputs": [],
   "source": [
    "df.loc[df['Bullet Name'] == '12/70 Grizzly 40 Slug'].loc[:,'Pentration Armor One':'Pentration Armor Six'].values"
   ]
  },
  {
   "cell_type": "code",
   "execution_count": null,
   "metadata": {},
   "outputs": [],
   "source": []
  },
  {
   "cell_type": "code",
   "execution_count": null,
   "metadata": {},
   "outputs": [],
   "source": []
  },
  {
   "cell_type": "code",
   "execution_count": 93,
   "metadata": {},
   "outputs": [],
   "source": []
  },
  {
   "cell_type": "code",
   "execution_count": null,
   "metadata": {},
   "outputs": [],
   "source": []
  }
 ],
 "metadata": {
  "kernelspec": {
   "display_name": "Python 3",
   "language": "python",
   "name": "python3"
  },
  "language_info": {
   "codemirror_mode": {
    "name": "ipython",
    "version": 3
   },
   "file_extension": ".py",
   "mimetype": "text/x-python",
   "name": "python",
   "nbconvert_exporter": "python",
   "pygments_lexer": "ipython3",
   "version": "3.7.4"
  }
 },
 "nbformat": 4,
 "nbformat_minor": 4
}
