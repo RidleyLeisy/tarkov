{
 "cells": [
  {
   "cell_type": "code",
   "execution_count": 1,
   "metadata": {},
   "outputs": [],
   "source": [
    "import requests\n",
    "import numpy as np"
   ]
  },
  {
   "cell_type": "code",
   "execution_count": 2,
   "metadata": {},
   "outputs": [],
   "source": [
    "api_key = 'nTzwgv4kSJLcD3yS'\n",
    "url = 'https://tarkov-market.ru/api/v1/'"
   ]
  },
  {
   "cell_type": "code",
   "execution_count": 3,
   "metadata": {},
   "outputs": [],
   "source": [
    "headers = {\n",
    "    'x-api-key': 'nTzwgv4kSJLcD3yS',\n",
    "}\n",
    "\n",
    "params = (\n",
    "    ('q', '5.56x45 mm Warmage'),\n",
    ")\n",
    "\n",
    "response = requests.get('https://tarkov-market.ru/api/v1/item', headers=headers, params=params)"
   ]
  },
  {
   "cell_type": "code",
   "execution_count": 4,
   "metadata": {},
   "outputs": [
    {
     "data": {
      "text/plain": [
       "[{'name': '5.56x45mm Warmage',\n",
       "  'price': 500,\n",
       "  'updated': '2020-02-20T22:51:04.605Z',\n",
       "  'slots': 1,\n",
       "  'diff24h': 2.88,\n",
       "  'diff7days': -7.75,\n",
       "  'icon': 'https://gamepedia.cursecdn.com/escapefromtarkov_gamepedia/3/39/556warmageicon.png?version=61c4d55216141f2d182f97ab3c8c4c26',\n",
       "  'link': 'https://tarkov-market.ru/en/item/5.56x45mm_warmage',\n",
       "  'wikiLink': 'https://escapefromtarkov.gamepedia.com/5.56x45_mm_Warmage',\n",
       "  'img': 'https://gamepedia.cursecdn.com/escapefromtarkov_gamepedia/3/39/556warmageicon.png?version=61c4d55216141f2d182f97ab3c8c4c26',\n",
       "  'imgBig': 'https://gamepedia.cursecdn.com/escapefromtarkov_gamepedia/thumb/4/4d/556warmageimage.png/320px-556warmageimage.png?version=9eb67a41c9289f69ec5d69b98a99946d',\n",
       "  'reference': 'https://www.patreon.com/tarkov_market'}]"
      ]
     },
     "execution_count": 4,
     "metadata": {},
     "output_type": "execute_result"
    }
   ],
   "source": [
    "response.json()"
   ]
  },
  {
   "cell_type": "code",
   "execution_count": null,
   "metadata": {},
   "outputs": [],
   "source": []
  },
  {
   "cell_type": "markdown",
   "metadata": {},
   "source": [
    "## Web Scrape"
   ]
  },
  {
   "cell_type": "code",
   "execution_count": 5,
   "metadata": {},
   "outputs": [],
   "source": [
    "from bs4 import BeautifulSoup\n",
    "import pandas as pd\n",
    "import html5lib"
   ]
  },
  {
   "cell_type": "code",
   "execution_count": 6,
   "metadata": {},
   "outputs": [],
   "source": [
    "r = requests.get('https://escapefromtarkov.gamepedia.com/Ballistics#Armor_Penetration_Tables')"
   ]
  },
  {
   "cell_type": "code",
   "execution_count": 7,
   "metadata": {},
   "outputs": [],
   "source": [
    "soup = BeautifulSoup(r.content,'html.parser')"
   ]
  },
  {
   "cell_type": "code",
   "execution_count": 8,
   "metadata": {},
   "outputs": [],
   "source": [
    "table = soup.find(\"table\",{\"class\":\"wikitable sortable\"})"
   ]
  },
  {
   "cell_type": "code",
   "execution_count": 9,
   "metadata": {},
   "outputs": [],
   "source": [
    "df = pd.read_html(str(table),header=1)[0]"
   ]
  },
  {
   "cell_type": "markdown",
   "metadata": {},
   "source": [
    "## Cleaning"
   ]
  },
  {
   "cell_type": "code",
   "execution_count": 10,
   "metadata": {},
   "outputs": [],
   "source": [
    "## need to remove tracer T and subsonic S at end of namesa"
   ]
  },
  {
   "cell_type": "code",
   "execution_count": 11,
   "metadata": {},
   "outputs": [],
   "source": [
    "df.drop(index=0,inplace=True)"
   ]
  },
  {
   "cell_type": "code",
   "execution_count": 12,
   "metadata": {},
   "outputs": [],
   "source": [
    "df['Name'] = df['Name'].fillna(0).apply(lambda x: x.replace('*',''))\n",
    "df.fillna(0,inplace=True)"
   ]
  },
  {
   "cell_type": "code",
   "execution_count": 13,
   "metadata": {},
   "outputs": [],
   "source": [
    "new_names = []\n",
    "for name in df['Name']:\n",
    "    if (name[-4:] == ' T S'):\n",
    "        df.loc[df['Name'] == name,'Name'] = name[:-4]\n",
    "        new_names.append(name[:-4])\n",
    "    if (name[-2:] == ' S'):\n",
    "        df.loc[df['Name'] == name,'Name'] = name[:-2]\n",
    "        new_names.append(name[:-2])\n",
    "    if (name[-2:] == ' T'):\n",
    "        df.loc[df['Name'] == name,'Name'] = name[:-2]\n",
    "        new_names.append(name[:-2])\n"
   ]
  },
  {
   "cell_type": "code",
   "execution_count": 14,
   "metadata": {},
   "outputs": [
    {
     "data": {
      "text/html": [
       "<div>\n",
       "<style scoped>\n",
       "    .dataframe tbody tr th:only-of-type {\n",
       "        vertical-align: middle;\n",
       "    }\n",
       "\n",
       "    .dataframe tbody tr th {\n",
       "        vertical-align: top;\n",
       "    }\n",
       "\n",
       "    .dataframe thead th {\n",
       "        text-align: right;\n",
       "    }\n",
       "</style>\n",
       "<table border=\"1\" class=\"dataframe\">\n",
       "  <thead>\n",
       "    <tr style=\"text-align: right;\">\n",
       "      <th></th>\n",
       "      <th>Caliber</th>\n",
       "      <th>Name</th>\n",
       "      <th>Fleshdamage</th>\n",
       "      <th>Penetrationpower</th>\n",
       "      <th>Armordamage %</th>\n",
       "      <th>Accuracy%</th>\n",
       "      <th>Recoil%</th>\n",
       "      <th>Fragmentationchance*</th>\n",
       "      <th>1</th>\n",
       "      <th>2</th>\n",
       "      <th>3</th>\n",
       "      <th>4</th>\n",
       "      <th>5</th>\n",
       "      <th>6</th>\n",
       "    </tr>\n",
       "  </thead>\n",
       "  <tbody>\n",
       "    <tr>\n",
       "      <td>1</td>\n",
       "      <td>12/70 shot</td>\n",
       "      <td>12/70 5.25mm Buckshot</td>\n",
       "      <td>8x34</td>\n",
       "      <td>1.0</td>\n",
       "      <td>15.0</td>\n",
       "      <td>0.0</td>\n",
       "      <td>0.0</td>\n",
       "      <td>0%</td>\n",
       "      <td>3.0</td>\n",
       "      <td>3.0</td>\n",
       "      <td>3.0</td>\n",
       "      <td>3.0</td>\n",
       "      <td>3.0</td>\n",
       "      <td>3.0</td>\n",
       "    </tr>\n",
       "    <tr>\n",
       "      <td>2</td>\n",
       "      <td>12/70 shot</td>\n",
       "      <td>12/70 8.5 mm \"Magnum\" Buckshot</td>\n",
       "      <td>8x44</td>\n",
       "      <td>2.0</td>\n",
       "      <td>26.0</td>\n",
       "      <td>-15.0</td>\n",
       "      <td>115.0</td>\n",
       "      <td>0%</td>\n",
       "      <td>3.0</td>\n",
       "      <td>3.0</td>\n",
       "      <td>3.0</td>\n",
       "      <td>3.0</td>\n",
       "      <td>3.0</td>\n",
       "      <td>3.0</td>\n",
       "    </tr>\n",
       "    <tr>\n",
       "      <td>3</td>\n",
       "      <td>12/70 shot</td>\n",
       "      <td>12x70 6.5 mm \"Express\" Buckshot</td>\n",
       "      <td>9x29</td>\n",
       "      <td>3.0</td>\n",
       "      <td>26.0</td>\n",
       "      <td>15.0</td>\n",
       "      <td>0.0</td>\n",
       "      <td>0%</td>\n",
       "      <td>3.0</td>\n",
       "      <td>3.0</td>\n",
       "      <td>3.0</td>\n",
       "      <td>3.0</td>\n",
       "      <td>3.0</td>\n",
       "      <td>3.0</td>\n",
       "    </tr>\n",
       "    <tr>\n",
       "      <td>4</td>\n",
       "      <td>12/70 shot</td>\n",
       "      <td>12x70 7mm Buckshot</td>\n",
       "      <td>8x32</td>\n",
       "      <td>3.0</td>\n",
       "      <td>26.0</td>\n",
       "      <td>0.0</td>\n",
       "      <td>0.0</td>\n",
       "      <td>0%</td>\n",
       "      <td>3.0</td>\n",
       "      <td>3.0</td>\n",
       "      <td>3.0</td>\n",
       "      <td>3.0</td>\n",
       "      <td>3.0</td>\n",
       "      <td>3.0</td>\n",
       "    </tr>\n",
       "    <tr>\n",
       "      <td>5</td>\n",
       "      <td>12/70 shot</td>\n",
       "      <td>12/70 Flechette</td>\n",
       "      <td>8x19</td>\n",
       "      <td>28.0</td>\n",
       "      <td>26.0</td>\n",
       "      <td>-25.0</td>\n",
       "      <td>0.0</td>\n",
       "      <td>0%</td>\n",
       "      <td>6.0</td>\n",
       "      <td>6.0</td>\n",
       "      <td>5.0</td>\n",
       "      <td>4.0</td>\n",
       "      <td>3.0</td>\n",
       "      <td>3.0</td>\n",
       "    </tr>\n",
       "  </tbody>\n",
       "</table>\n",
       "</div>"
      ],
      "text/plain": [
       "      Caliber                             Name Fleshdamage  Penetrationpower  \\\n",
       "1  12/70 shot            12/70 5.25mm Buckshot        8x34               1.0   \n",
       "2  12/70 shot   12/70 8.5 mm \"Magnum\" Buckshot        8x44               2.0   \n",
       "3  12/70 shot  12x70 6.5 mm \"Express\" Buckshot        9x29               3.0   \n",
       "4  12/70 shot               12x70 7mm Buckshot        8x32               3.0   \n",
       "5  12/70 shot                  12/70 Flechette        8x19              28.0   \n",
       "\n",
       "   Armordamage %  Accuracy%  Recoil% Fragmentationchance*    1    2    3    4  \\\n",
       "1           15.0        0.0      0.0                   0%  3.0  3.0  3.0  3.0   \n",
       "2           26.0      -15.0    115.0                   0%  3.0  3.0  3.0  3.0   \n",
       "3           26.0       15.0      0.0                   0%  3.0  3.0  3.0  3.0   \n",
       "4           26.0        0.0      0.0                   0%  3.0  3.0  3.0  3.0   \n",
       "5           26.0      -25.0      0.0                   0%  6.0  6.0  5.0  4.0   \n",
       "\n",
       "     5    6  \n",
       "1  3.0  3.0  \n",
       "2  3.0  3.0  \n",
       "3  3.0  3.0  \n",
       "4  3.0  3.0  \n",
       "5  3.0  3.0  "
      ]
     },
     "execution_count": 14,
     "metadata": {},
     "output_type": "execute_result"
    }
   ],
   "source": [
    "df.head()"
   ]
  },
  {
   "cell_type": "code",
   "execution_count": 15,
   "metadata": {},
   "outputs": [],
   "source": [
    "df['price'] = 0\n",
    "df['diff24h']= 0\n",
    "df['diff7days'] = 0\n",
    "df['updated'] = 0"
   ]
  },
  {
   "cell_type": "markdown",
   "metadata": {},
   "source": [
    "## Get Pricing Data"
   ]
  },
  {
   "cell_type": "code",
   "execution_count": 16,
   "metadata": {},
   "outputs": [],
   "source": [
    "headers = {\n",
    "    'x-api-key': 'nTzwgv4kSJLcD3yS',\n",
    "}\n",
    "\n",
    "params = (\n",
    "    ('q', '12/70 5.25mm Buckshot'),\n",
    ")\n",
    "\n",
    "response = requests.get('https://tarkov-market.ru/api/v1/item', headers=headers, params=params)\n",
    "res = response.json()"
   ]
  },
  {
   "cell_type": "code",
   "execution_count": 17,
   "metadata": {},
   "outputs": [],
   "source": [
    "# need to change mm to match API\n",
    "df.loc[df['Name'] == '5.56x45 mm Warmage','Name'] = '5.56x45mm Warmage'"
   ]
  },
  {
   "cell_type": "code",
   "execution_count": null,
   "metadata": {},
   "outputs": [],
   "source": [
    "missing_names = []\n",
    "unclear_name = []\n",
    "for name in df['Name']:\n",
    "\n",
    "    params = (('q', name),)\n",
    "    response = requests.get('https://tarkov-market.ru/api/v1/item', headers=headers, params=params)\n",
    "    res = response.json()\n",
    "    if len(res) >= 1:\n",
    "        if res[0]['name'] == name:\n",
    "            df.loc[df['Name'] == name,'price'] = res[0]['price']\n",
    "            df.loc[df['Name'] == name,'diff24h'] = res[0]['diff24h']\n",
    "            df.loc[df['Name'] == name,'diff7days'] = res[0]['diff7days']\n",
    "            df.loc[df['Name'] == name,'updated'] = res[0]['updated']\n",
    "        else:\n",
    "            unclear_name.append(name)\n",
    "    else:\n",
    "        missing_names.append(name)\n",
    "    response.close()"
   ]
  },
  {
   "cell_type": "code",
   "execution_count": null,
   "metadata": {},
   "outputs": [],
   "source": [
    "df['Caliber'].unique()"
   ]
  },
  {
   "cell_type": "code",
   "execution_count": null,
   "metadata": {},
   "outputs": [],
   "source": [
    "df.columns"
   ]
  },
  {
   "cell_type": "code",
   "execution_count": null,
   "metadata": {},
   "outputs": [],
   "source": [
    "cols_rename = {'Caliber':'Caliber',\n",
    "                'Name':'Bullet Name',\n",
    "              'Fleshdamage':'Flesh Damage',\n",
    "              'Penetrationpower':'Penetration Power',\n",
    "              'Armordamage\\xa0%':'Armor Damage (%)',\n",
    "              'Accuracy%':'Accuracy (%)',\n",
    "              'Recoil%':'Recoil (%)',\n",
    "              'Fragmentationchance*': 'Fragmentation Chance (%)',\n",
    "              '1':'Pentration Armor One',\n",
    "              '2':'Pentration Armor Two',\n",
    "              '3':'Pentration Armor Three',\n",
    "              '4':'Pentration Armor Four',\n",
    "              '5':'Pentration Armor Five',\n",
    "              '6':'Pentration Armor Six',\n",
    "              'price':'Current Price',\n",
    "              'diff24h':'24 hour Price Diff',\n",
    "              'diff7days':'1 week Price Diff',\n",
    "              'updated':'Last Updated'}"
   ]
  },
  {
   "cell_type": "code",
   "execution_count": null,
   "metadata": {},
   "outputs": [],
   "source": [
    "df.rename(columns=cols_rename,inplace=True)"
   ]
  },
  {
   "cell_type": "code",
   "execution_count": null,
   "metadata": {},
   "outputs": [],
   "source": [
    "df.rename(columns={'Armordamage\\xa0%':'Armor Damage (%)'},inplace=True)"
   ]
  },
  {
   "cell_type": "code",
   "execution_count": null,
   "metadata": {},
   "outputs": [],
   "source": [
    "# convert 8x19 to total pellet damage\n",
    "flesh_d = df.loc[df['Flesh Damage'].str.contains('x')]['Flesh Damage']"
   ]
  },
  {
   "cell_type": "code",
   "execution_count": null,
   "metadata": {},
   "outputs": [],
   "source": [
    "total_flesh = []\n",
    "for item in flesh_d:\n",
    "    total_flesh.append(int(item[0]) * int(item[2:]))"
   ]
  },
  {
   "cell_type": "code",
   "execution_count": null,
   "metadata": {},
   "outputs": [],
   "source": [
    "df.loc[df['Flesh Damage'].str.contains('x'), 'Flesh Damage'] = total_flesh"
   ]
  },
  {
   "cell_type": "code",
   "execution_count": null,
   "metadata": {},
   "outputs": [],
   "source": [
    "df['Flesh Damage'] = pd.to_numeric(df['Flesh Damage'])"
   ]
  },
  {
   "cell_type": "code",
   "execution_count": null,
   "metadata": {},
   "outputs": [],
   "source": [
    "df.head()"
   ]
  },
  {
   "cell_type": "code",
   "execution_count": null,
   "metadata": {},
   "outputs": [],
   "source": [
    "df['Pen Power by Price'] = df['Penetration Power'] / df['Current Price']\n",
    "df['Flesh Damage by Price'] = df['Flesh Damage'] / df['Current Price']"
   ]
  },
  {
   "cell_type": "code",
   "execution_count": null,
   "metadata": {},
   "outputs": [],
   "source": [
    "df.replace(np.inf,0,inplace=True)"
   ]
  },
  {
   "cell_type": "markdown",
   "metadata": {},
   "source": [
    "## Cleaning New DF"
   ]
  },
  {
   "cell_type": "code",
   "execution_count": null,
   "metadata": {},
   "outputs": [],
   "source": [
    "df.to_csv('init.csv')"
   ]
  },
  {
   "cell_type": "code",
   "execution_count": null,
   "metadata": {},
   "outputs": [],
   "source": [
    "df"
   ]
  },
  {
   "cell_type": "code",
   "execution_count": 116,
   "metadata": {},
   "outputs": [],
   "source": []
  },
  {
   "cell_type": "code",
   "execution_count": null,
   "metadata": {},
   "outputs": [],
   "source": []
  }
 ],
 "metadata": {
  "kernelspec": {
   "display_name": "Python 3",
   "language": "python",
   "name": "python3"
  },
  "language_info": {
   "codemirror_mode": {
    "name": "ipython",
    "version": 3
   },
   "file_extension": ".py",
   "mimetype": "text/x-python",
   "name": "python",
   "nbconvert_exporter": "python",
   "pygments_lexer": "ipython3",
   "version": "3.7.4"
  }
 },
 "nbformat": 4,
 "nbformat_minor": 4
}
