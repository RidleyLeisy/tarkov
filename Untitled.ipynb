{
 "cells": [
  {
   "cell_type": "code",
   "execution_count": 1,
   "metadata": {},
   "outputs": [],
   "source": [
    "import requests\n",
    "import numpy as np"
   ]
  },
  {
   "cell_type": "code",
   "execution_count": 2,
   "metadata": {},
   "outputs": [],
   "source": [
    "api_key = 'nTzwgv4kSJLcD3yS'\n",
    "url = 'https://tarkov-market.ru/api/v1/'"
   ]
  },
  {
   "cell_type": "code",
   "execution_count": 3,
   "metadata": {},
   "outputs": [],
   "source": [
    "headers = {\n",
    "    'x-api-key': 'nTzwgv4kSJLcD3yS',\n",
    "}\n",
    "\n",
    "params = (\n",
    "    ('q', '5.56x45 mm Warmage'),\n",
    ")\n",
    "\n",
    "response = requests.get('https://tarkov-market.ru/api/v1/item', headers=headers, params=params)"
   ]
  },
  {
   "cell_type": "code",
   "execution_count": 4,
   "metadata": {},
   "outputs": [
    {
     "data": {
      "text/plain": [
       "[{'name': '5.56x45mm Warmage',\n",
       "  'price': 500,\n",
       "  'updated': '2020-02-20T22:51:04.605Z',\n",
       "  'slots': 1,\n",
       "  'diff24h': 2.88,\n",
       "  'diff7days': -7.75,\n",
       "  'icon': 'https://gamepedia.cursecdn.com/escapefromtarkov_gamepedia/3/39/556warmageicon.png?version=61c4d55216141f2d182f97ab3c8c4c26',\n",
       "  'link': 'https://tarkov-market.ru/en/item/5.56x45mm_warmage',\n",
       "  'wikiLink': 'https://escapefromtarkov.gamepedia.com/5.56x45_mm_Warmage',\n",
       "  'img': 'https://gamepedia.cursecdn.com/escapefromtarkov_gamepedia/3/39/556warmageicon.png?version=61c4d55216141f2d182f97ab3c8c4c26',\n",
       "  'imgBig': 'https://gamepedia.cursecdn.com/escapefromtarkov_gamepedia/thumb/4/4d/556warmageimage.png/320px-556warmageimage.png?version=9eb67a41c9289f69ec5d69b98a99946d',\n",
       "  'reference': 'https://www.patreon.com/tarkov_market'}]"
      ]
     },
     "execution_count": 4,
     "metadata": {},
     "output_type": "execute_result"
    }
   ],
   "source": [
    "response.json()"
   ]
  },
  {
   "cell_type": "code",
   "execution_count": null,
   "metadata": {},
   "outputs": [],
   "source": []
  },
  {
   "cell_type": "markdown",
   "metadata": {},
   "source": [
    "## Web Scrape"
   ]
  },
  {
   "cell_type": "code",
   "execution_count": 5,
   "metadata": {},
   "outputs": [],
   "source": [
    "from bs4 import BeautifulSoup\n",
    "import pandas as pd\n",
    "import html5lib"
   ]
  },
  {
   "cell_type": "code",
   "execution_count": 6,
   "metadata": {},
   "outputs": [],
   "source": [
    "r = requests.get('https://escapefromtarkov.gamepedia.com/Ballistics#Armor_Penetration_Tables')"
   ]
  },
  {
   "cell_type": "code",
   "execution_count": 7,
   "metadata": {},
   "outputs": [],
   "source": [
    "soup = BeautifulSoup(r.content,'html.parser')"
   ]
  },
  {
   "cell_type": "code",
   "execution_count": 8,
   "metadata": {},
   "outputs": [],
   "source": [
    "table = soup.find(\"table\",{\"class\":\"wikitable sortable\"})"
   ]
  },
  {
   "cell_type": "code",
   "execution_count": 9,
   "metadata": {},
   "outputs": [],
   "source": [
    "df = pd.read_html(str(table),header=1)[0]"
   ]
  },
  {
   "cell_type": "markdown",
   "metadata": {},
   "source": [
    "## Cleaning"
   ]
  },
  {
   "cell_type": "code",
   "execution_count": 10,
   "metadata": {},
   "outputs": [],
   "source": [
    "## need to remove tracer T and subsonic S at end of namesa"
   ]
  },
  {
   "cell_type": "code",
   "execution_count": 11,
   "metadata": {},
   "outputs": [],
   "source": [
    "df.drop(index=0,inplace=True)"
   ]
  },
  {
   "cell_type": "code",
   "execution_count": 12,
   "metadata": {},
   "outputs": [],
   "source": [
    "df['Name'] = df['Name'].fillna(0).apply(lambda x: x.replace('*',''))\n",
    "df.fillna(0,inplace=True)"
   ]
  },
  {
   "cell_type": "code",
   "execution_count": 13,
   "metadata": {},
   "outputs": [],
   "source": [
    "new_names = []\n",
    "for name in df['Name']:\n",
    "    if (name[-4:] == ' T S'):\n",
    "        df.loc[df['Name'] == name,'Name'] = name[:-4]\n",
    "        new_names.append(name[:-4])\n",
    "    if (name[-2:] == ' S'):\n",
    "        df.loc[df['Name'] == name,'Name'] = name[:-2]\n",
    "        new_names.append(name[:-2])\n",
    "    if (name[-2:] == ' T'):\n",
    "        df.loc[df['Name'] == name,'Name'] = name[:-2]\n",
    "        new_names.append(name[:-2])\n"
   ]
  },
  {
   "cell_type": "code",
   "execution_count": 14,
   "metadata": {},
   "outputs": [
    {
     "data": {
      "text/html": [
       "<div>\n",
       "<style scoped>\n",
       "    .dataframe tbody tr th:only-of-type {\n",
       "        vertical-align: middle;\n",
       "    }\n",
       "\n",
       "    .dataframe tbody tr th {\n",
       "        vertical-align: top;\n",
       "    }\n",
       "\n",
       "    .dataframe thead th {\n",
       "        text-align: right;\n",
       "    }\n",
       "</style>\n",
       "<table border=\"1\" class=\"dataframe\">\n",
       "  <thead>\n",
       "    <tr style=\"text-align: right;\">\n",
       "      <th></th>\n",
       "      <th>Caliber</th>\n",
       "      <th>Name</th>\n",
       "      <th>Fleshdamage</th>\n",
       "      <th>Penetrationpower</th>\n",
       "      <th>Armordamage %</th>\n",
       "      <th>Accuracy%</th>\n",
       "      <th>Recoil%</th>\n",
       "      <th>Fragmentationchance*</th>\n",
       "      <th>1</th>\n",
       "      <th>2</th>\n",
       "      <th>3</th>\n",
       "      <th>4</th>\n",
       "      <th>5</th>\n",
       "      <th>6</th>\n",
       "    </tr>\n",
       "  </thead>\n",
       "  <tbody>\n",
       "    <tr>\n",
       "      <td>1</td>\n",
       "      <td>12/70 shot</td>\n",
       "      <td>12/70 5.25mm Buckshot</td>\n",
       "      <td>8x34</td>\n",
       "      <td>1.0</td>\n",
       "      <td>15.0</td>\n",
       "      <td>0.0</td>\n",
       "      <td>0.0</td>\n",
       "      <td>0%</td>\n",
       "      <td>3.0</td>\n",
       "      <td>3.0</td>\n",
       "      <td>3.0</td>\n",
       "      <td>3.0</td>\n",
       "      <td>3.0</td>\n",
       "      <td>3.0</td>\n",
       "    </tr>\n",
       "    <tr>\n",
       "      <td>2</td>\n",
       "      <td>12/70 shot</td>\n",
       "      <td>12/70 8.5 mm \"Magnum\" Buckshot</td>\n",
       "      <td>8x44</td>\n",
       "      <td>2.0</td>\n",
       "      <td>26.0</td>\n",
       "      <td>-15.0</td>\n",
       "      <td>115.0</td>\n",
       "      <td>0%</td>\n",
       "      <td>3.0</td>\n",
       "      <td>3.0</td>\n",
       "      <td>3.0</td>\n",
       "      <td>3.0</td>\n",
       "      <td>3.0</td>\n",
       "      <td>3.0</td>\n",
       "    </tr>\n",
       "    <tr>\n",
       "      <td>3</td>\n",
       "      <td>12/70 shot</td>\n",
       "      <td>12x70 6.5 mm \"Express\" Buckshot</td>\n",
       "      <td>9x29</td>\n",
       "      <td>3.0</td>\n",
       "      <td>26.0</td>\n",
       "      <td>15.0</td>\n",
       "      <td>0.0</td>\n",
       "      <td>0%</td>\n",
       "      <td>3.0</td>\n",
       "      <td>3.0</td>\n",
       "      <td>3.0</td>\n",
       "      <td>3.0</td>\n",
       "      <td>3.0</td>\n",
       "      <td>3.0</td>\n",
       "    </tr>\n",
       "    <tr>\n",
       "      <td>4</td>\n",
       "      <td>12/70 shot</td>\n",
       "      <td>12x70 7mm Buckshot</td>\n",
       "      <td>8x32</td>\n",
       "      <td>3.0</td>\n",
       "      <td>26.0</td>\n",
       "      <td>0.0</td>\n",
       "      <td>0.0</td>\n",
       "      <td>0%</td>\n",
       "      <td>3.0</td>\n",
       "      <td>3.0</td>\n",
       "      <td>3.0</td>\n",
       "      <td>3.0</td>\n",
       "      <td>3.0</td>\n",
       "      <td>3.0</td>\n",
       "    </tr>\n",
       "    <tr>\n",
       "      <td>5</td>\n",
       "      <td>12/70 shot</td>\n",
       "      <td>12/70 Flechette</td>\n",
       "      <td>8x19</td>\n",
       "      <td>28.0</td>\n",
       "      <td>26.0</td>\n",
       "      <td>-25.0</td>\n",
       "      <td>0.0</td>\n",
       "      <td>0%</td>\n",
       "      <td>6.0</td>\n",
       "      <td>6.0</td>\n",
       "      <td>5.0</td>\n",
       "      <td>4.0</td>\n",
       "      <td>3.0</td>\n",
       "      <td>3.0</td>\n",
       "    </tr>\n",
       "  </tbody>\n",
       "</table>\n",
       "</div>"
      ],
      "text/plain": [
       "      Caliber                             Name Fleshdamage  Penetrationpower  \\\n",
       "1  12/70 shot            12/70 5.25mm Buckshot        8x34               1.0   \n",
       "2  12/70 shot   12/70 8.5 mm \"Magnum\" Buckshot        8x44               2.0   \n",
       "3  12/70 shot  12x70 6.5 mm \"Express\" Buckshot        9x29               3.0   \n",
       "4  12/70 shot               12x70 7mm Buckshot        8x32               3.0   \n",
       "5  12/70 shot                  12/70 Flechette        8x19              28.0   \n",
       "\n",
       "   Armordamage %  Accuracy%  Recoil% Fragmentationchance*    1    2    3    4  \\\n",
       "1           15.0        0.0      0.0                   0%  3.0  3.0  3.0  3.0   \n",
       "2           26.0      -15.0    115.0                   0%  3.0  3.0  3.0  3.0   \n",
       "3           26.0       15.0      0.0                   0%  3.0  3.0  3.0  3.0   \n",
       "4           26.0        0.0      0.0                   0%  3.0  3.0  3.0  3.0   \n",
       "5           26.0      -25.0      0.0                   0%  6.0  6.0  5.0  4.0   \n",
       "\n",
       "     5    6  \n",
       "1  3.0  3.0  \n",
       "2  3.0  3.0  \n",
       "3  3.0  3.0  \n",
       "4  3.0  3.0  \n",
       "5  3.0  3.0  "
      ]
     },
     "execution_count": 14,
     "metadata": {},
     "output_type": "execute_result"
    }
   ],
   "source": [
    "df.head()"
   ]
  },
  {
   "cell_type": "code",
   "execution_count": 15,
   "metadata": {},
   "outputs": [],
   "source": [
    "df['price'] = 0\n",
    "df['diff24h']= 0\n",
    "df['diff7days'] = 0\n",
    "df['updated'] = 0"
   ]
  },
  {
   "cell_type": "markdown",
   "metadata": {},
   "source": [
    "## Get Pricing Data"
   ]
  },
  {
   "cell_type": "code",
   "execution_count": 16,
   "metadata": {},
   "outputs": [],
   "source": [
    "headers = {\n",
    "    'x-api-key': 'nTzwgv4kSJLcD3yS',\n",
    "}\n",
    "\n",
    "params = (\n",
    "    ('q', '12/70 5.25mm Buckshot'),\n",
    ")\n",
    "\n",
    "response = requests.get('https://tarkov-market.ru/api/v1/item', headers=headers, params=params)\n",
    "res = response.json()"
   ]
  },
  {
   "cell_type": "code",
   "execution_count": 17,
   "metadata": {},
   "outputs": [],
   "source": [
    "# need to change mm to match API\n",
    "df.loc[df['Name'] == '5.56x45 mm Warmage','Name'] = '5.56x45mm Warmage'"
   ]
  },
  {
   "cell_type": "code",
   "execution_count": 18,
   "metadata": {},
   "outputs": [],
   "source": [
    "missing_names = []\n",
    "unclear_name = []\n",
    "for name in df['Name']:\n",
    "\n",
    "    params = (('q', name),)\n",
    "    response = requests.get('https://tarkov-market.ru/api/v1/item', headers=headers, params=params)\n",
    "    res = response.json()\n",
    "    if len(res) >= 1:\n",
    "        if res[0]['name'] == name:\n",
    "            df.loc[df['Name'] == name,'price'] = res[0]['price']\n",
    "            df.loc[df['Name'] == name,'diff24h'] = res[0]['diff24h']\n",
    "            df.loc[df['Name'] == name,'diff7days'] = res[0]['diff7days']\n",
    "            df.loc[df['Name'] == name,'updated'] = res[0]['updated']\n",
    "        else:\n",
    "            unclear_name.append(name)\n",
    "    else:\n",
    "        missing_names.append(name)\n",
    "    response.close()"
   ]
  },
  {
   "cell_type": "code",
   "execution_count": 19,
   "metadata": {},
   "outputs": [
    {
     "data": {
      "text/plain": [
       "array(['12/70 shot', '12/70 slugs', '20x70mm', '9x18mm Makarov',\n",
       "       '7.62x25mm Tokarev', '9x19mm Parabellum', '9x21mm Gyurza',\n",
       "       '5.7x28mm FN', '4.6x30mm HK', '9x39mm', '.366 TKM', '5.45x39mm',\n",
       "       '5.56x45mm NATO', '7.62x39mm', '7.62x51mm NATO', '7.62x54mmR',\n",
       "       '12.7x55mm STs-130', 'Stationary Weapons'], dtype=object)"
      ]
     },
     "execution_count": 19,
     "metadata": {},
     "output_type": "execute_result"
    }
   ],
   "source": [
    "df['Caliber'].unique()"
   ]
  },
  {
   "cell_type": "code",
   "execution_count": 20,
   "metadata": {},
   "outputs": [
    {
     "data": {
      "text/plain": [
       "Index(['Caliber', 'Name', 'Fleshdamage', 'Penetrationpower', 'Armordamage %',\n",
       "       'Accuracy%', 'Recoil%', 'Fragmentationchance*', '1', '2', '3', '4', '5',\n",
       "       '6', 'price', 'diff24h', 'diff7days', 'updated'],\n",
       "      dtype='object')"
      ]
     },
     "execution_count": 20,
     "metadata": {},
     "output_type": "execute_result"
    }
   ],
   "source": [
    "df.columns"
   ]
  },
  {
   "cell_type": "code",
   "execution_count": 21,
   "metadata": {},
   "outputs": [],
   "source": [
    "cols_rename = {'Caliber':'Caliber',\n",
    "                'Name':'Bullet Name',\n",
    "              'Fleshdamage':'Flesh Damage',\n",
    "              'Penetrationpower':'Penetration Power',\n",
    "              'Armordamage\\xa0%':'Armor Damage (%)',\n",
    "              'Accuracy%':'Accuracy (%)',\n",
    "              'Recoil%':'Recoil (%)',\n",
    "              'Fragmentationchance*': 'Fragmentation Chance (%)',\n",
    "              '1':'Pentration Armor One',\n",
    "              '2':'Pentration Armor Two',\n",
    "              '3':'Pentration Armor Three',\n",
    "              '4':'Pentration Armor Four',\n",
    "              '5':'Pentration Armor Five',\n",
    "              '6':'Pentration Armor Six',\n",
    "              'price':'Current Price',\n",
    "              'diff24h':'24 hour Price Diff',\n",
    "              'diff7days':'1 week Price Diff',\n",
    "              'updated':'Last Updated'}"
   ]
  },
  {
   "cell_type": "code",
   "execution_count": 22,
   "metadata": {},
   "outputs": [],
   "source": [
    "df.rename(columns=cols_rename,inplace=True)"
   ]
  },
  {
   "cell_type": "code",
   "execution_count": 23,
   "metadata": {},
   "outputs": [],
   "source": [
    "df.rename(columns={'Armordamage\\xa0%':'Armor Damage (%)'},inplace=True)"
   ]
  },
  {
   "cell_type": "code",
   "execution_count": 24,
   "metadata": {},
   "outputs": [],
   "source": [
    "# convert 8x19 to total pellet damage\n",
    "flesh_d = df.loc[df['Flesh Damage'].str.contains('x')]['Flesh Damage']"
   ]
  },
  {
   "cell_type": "code",
   "execution_count": 25,
   "metadata": {},
   "outputs": [],
   "source": [
    "total_flesh = []\n",
    "for item in flesh_d:\n",
    "    total_flesh.append(int(item[0]) * int(item[2:]))"
   ]
  },
  {
   "cell_type": "code",
   "execution_count": 26,
   "metadata": {},
   "outputs": [],
   "source": [
    "df.loc[df['Flesh Damage'].str.contains('x'), 'Flesh Damage'] = total_flesh"
   ]
  },
  {
   "cell_type": "code",
   "execution_count": 27,
   "metadata": {},
   "outputs": [],
   "source": [
    "df['Flesh Damage'] = pd.to_numeric(df['Flesh Damage'])"
   ]
  },
  {
   "cell_type": "code",
   "execution_count": 28,
   "metadata": {},
   "outputs": [
    {
     "data": {
      "text/html": [
       "<div>\n",
       "<style scoped>\n",
       "    .dataframe tbody tr th:only-of-type {\n",
       "        vertical-align: middle;\n",
       "    }\n",
       "\n",
       "    .dataframe tbody tr th {\n",
       "        vertical-align: top;\n",
       "    }\n",
       "\n",
       "    .dataframe thead th {\n",
       "        text-align: right;\n",
       "    }\n",
       "</style>\n",
       "<table border=\"1\" class=\"dataframe\">\n",
       "  <thead>\n",
       "    <tr style=\"text-align: right;\">\n",
       "      <th></th>\n",
       "      <th>Caliber</th>\n",
       "      <th>Bullet Name</th>\n",
       "      <th>Flesh Damage</th>\n",
       "      <th>Penetration Power</th>\n",
       "      <th>Armor Damage (%)</th>\n",
       "      <th>Accuracy (%)</th>\n",
       "      <th>Recoil (%)</th>\n",
       "      <th>Fragmentation Chance (%)</th>\n",
       "      <th>Pentration Armor One</th>\n",
       "      <th>Pentration Armor Two</th>\n",
       "      <th>Pentration Armor Three</th>\n",
       "      <th>Pentration Armor Four</th>\n",
       "      <th>Pentration Armor Five</th>\n",
       "      <th>Pentration Armor Six</th>\n",
       "      <th>Current Price</th>\n",
       "      <th>24 hour Price Diff</th>\n",
       "      <th>1 week Price Diff</th>\n",
       "      <th>Last Updated</th>\n",
       "    </tr>\n",
       "  </thead>\n",
       "  <tbody>\n",
       "    <tr>\n",
       "      <td>1</td>\n",
       "      <td>12/70 shot</td>\n",
       "      <td>12/70 5.25mm Buckshot</td>\n",
       "      <td>272</td>\n",
       "      <td>1.0</td>\n",
       "      <td>15.0</td>\n",
       "      <td>0.0</td>\n",
       "      <td>0.0</td>\n",
       "      <td>0%</td>\n",
       "      <td>3.0</td>\n",
       "      <td>3.0</td>\n",
       "      <td>3.0</td>\n",
       "      <td>3.0</td>\n",
       "      <td>3.0</td>\n",
       "      <td>3.0</td>\n",
       "      <td>35</td>\n",
       "      <td>-5.41</td>\n",
       "      <td>-16.67</td>\n",
       "      <td>2020-02-20T23:43:46.726Z</td>\n",
       "    </tr>\n",
       "    <tr>\n",
       "      <td>2</td>\n",
       "      <td>12/70 shot</td>\n",
       "      <td>12/70 8.5 mm \"Magnum\" Buckshot</td>\n",
       "      <td>352</td>\n",
       "      <td>2.0</td>\n",
       "      <td>26.0</td>\n",
       "      <td>-15.0</td>\n",
       "      <td>115.0</td>\n",
       "      <td>0%</td>\n",
       "      <td>3.0</td>\n",
       "      <td>3.0</td>\n",
       "      <td>3.0</td>\n",
       "      <td>3.0</td>\n",
       "      <td>3.0</td>\n",
       "      <td>3.0</td>\n",
       "      <td>54</td>\n",
       "      <td>-26.03</td>\n",
       "      <td>-29.87</td>\n",
       "      <td>2020-02-20T22:23:05.950Z</td>\n",
       "    </tr>\n",
       "    <tr>\n",
       "      <td>3</td>\n",
       "      <td>12/70 shot</td>\n",
       "      <td>12x70 6.5 mm \"Express\" Buckshot</td>\n",
       "      <td>261</td>\n",
       "      <td>3.0</td>\n",
       "      <td>26.0</td>\n",
       "      <td>15.0</td>\n",
       "      <td>0.0</td>\n",
       "      <td>0%</td>\n",
       "      <td>3.0</td>\n",
       "      <td>3.0</td>\n",
       "      <td>3.0</td>\n",
       "      <td>3.0</td>\n",
       "      <td>3.0</td>\n",
       "      <td>3.0</td>\n",
       "      <td>30</td>\n",
       "      <td>-53.85</td>\n",
       "      <td>-93.59</td>\n",
       "      <td>2020-02-20T22:30:49.294Z</td>\n",
       "    </tr>\n",
       "    <tr>\n",
       "      <td>4</td>\n",
       "      <td>12/70 shot</td>\n",
       "      <td>12x70 7mm Buckshot</td>\n",
       "      <td>256</td>\n",
       "      <td>3.0</td>\n",
       "      <td>26.0</td>\n",
       "      <td>0.0</td>\n",
       "      <td>0.0</td>\n",
       "      <td>0%</td>\n",
       "      <td>3.0</td>\n",
       "      <td>3.0</td>\n",
       "      <td>3.0</td>\n",
       "      <td>3.0</td>\n",
       "      <td>3.0</td>\n",
       "      <td>3.0</td>\n",
       "      <td>16</td>\n",
       "      <td>-20.00</td>\n",
       "      <td>-11.11</td>\n",
       "      <td>2020-02-20T23:52:31.897Z</td>\n",
       "    </tr>\n",
       "    <tr>\n",
       "      <td>5</td>\n",
       "      <td>12/70 shot</td>\n",
       "      <td>12/70 Flechette</td>\n",
       "      <td>152</td>\n",
       "      <td>28.0</td>\n",
       "      <td>26.0</td>\n",
       "      <td>-25.0</td>\n",
       "      <td>0.0</td>\n",
       "      <td>0%</td>\n",
       "      <td>6.0</td>\n",
       "      <td>6.0</td>\n",
       "      <td>5.0</td>\n",
       "      <td>4.0</td>\n",
       "      <td>3.0</td>\n",
       "      <td>3.0</td>\n",
       "      <td>123</td>\n",
       "      <td>5.13</td>\n",
       "      <td>12.84</td>\n",
       "      <td>2020-02-20T22:35:12.036Z</td>\n",
       "    </tr>\n",
       "  </tbody>\n",
       "</table>\n",
       "</div>"
      ],
      "text/plain": [
       "      Caliber                      Bullet Name  Flesh Damage  \\\n",
       "1  12/70 shot            12/70 5.25mm Buckshot           272   \n",
       "2  12/70 shot   12/70 8.5 mm \"Magnum\" Buckshot           352   \n",
       "3  12/70 shot  12x70 6.5 mm \"Express\" Buckshot           261   \n",
       "4  12/70 shot               12x70 7mm Buckshot           256   \n",
       "5  12/70 shot                  12/70 Flechette           152   \n",
       "\n",
       "   Penetration Power  Armor Damage (%)  Accuracy (%)  Recoil (%)  \\\n",
       "1                1.0              15.0           0.0         0.0   \n",
       "2                2.0              26.0         -15.0       115.0   \n",
       "3                3.0              26.0          15.0         0.0   \n",
       "4                3.0              26.0           0.0         0.0   \n",
       "5               28.0              26.0         -25.0         0.0   \n",
       "\n",
       "  Fragmentation Chance (%)  Pentration Armor One  Pentration Armor Two  \\\n",
       "1                       0%                   3.0                   3.0   \n",
       "2                       0%                   3.0                   3.0   \n",
       "3                       0%                   3.0                   3.0   \n",
       "4                       0%                   3.0                   3.0   \n",
       "5                       0%                   6.0                   6.0   \n",
       "\n",
       "   Pentration Armor Three  Pentration Armor Four  Pentration Armor Five  \\\n",
       "1                     3.0                    3.0                    3.0   \n",
       "2                     3.0                    3.0                    3.0   \n",
       "3                     3.0                    3.0                    3.0   \n",
       "4                     3.0                    3.0                    3.0   \n",
       "5                     5.0                    4.0                    3.0   \n",
       "\n",
       "   Pentration Armor Six  Current Price  24 hour Price Diff  1 week Price Diff  \\\n",
       "1                   3.0             35               -5.41             -16.67   \n",
       "2                   3.0             54              -26.03             -29.87   \n",
       "3                   3.0             30              -53.85             -93.59   \n",
       "4                   3.0             16              -20.00             -11.11   \n",
       "5                   3.0            123                5.13              12.84   \n",
       "\n",
       "               Last Updated  \n",
       "1  2020-02-20T23:43:46.726Z  \n",
       "2  2020-02-20T22:23:05.950Z  \n",
       "3  2020-02-20T22:30:49.294Z  \n",
       "4  2020-02-20T23:52:31.897Z  \n",
       "5  2020-02-20T22:35:12.036Z  "
      ]
     },
     "execution_count": 28,
     "metadata": {},
     "output_type": "execute_result"
    }
   ],
   "source": [
    "df.head()"
   ]
  },
  {
   "cell_type": "code",
   "execution_count": 29,
   "metadata": {},
   "outputs": [],
   "source": [
    "df['Pen Power by Price'] = df['Penetration Power'] / df['Current Price']\n",
    "df['Flesh Damage by Price'] = df['Flesh Damage'] / df['Current Price']"
   ]
  },
  {
   "cell_type": "code",
   "execution_count": 30,
   "metadata": {},
   "outputs": [],
   "source": [
    "df.replace(np.inf,0,inplace=True)"
   ]
  },
  {
   "cell_type": "markdown",
   "metadata": {},
   "source": [
    "## Cleaning New DF"
   ]
  },
  {
   "cell_type": "code",
   "execution_count": 31,
   "metadata": {},
   "outputs": [],
   "source": [
    "df.to_csv('init.csv')"
   ]
  },
  {
   "cell_type": "code",
   "execution_count": 32,
   "metadata": {},
   "outputs": [
    {
     "data": {
      "text/html": [
       "<div>\n",
       "<style scoped>\n",
       "    .dataframe tbody tr th:only-of-type {\n",
       "        vertical-align: middle;\n",
       "    }\n",
       "\n",
       "    .dataframe tbody tr th {\n",
       "        vertical-align: top;\n",
       "    }\n",
       "\n",
       "    .dataframe thead th {\n",
       "        text-align: right;\n",
       "    }\n",
       "</style>\n",
       "<table border=\"1\" class=\"dataframe\">\n",
       "  <thead>\n",
       "    <tr style=\"text-align: right;\">\n",
       "      <th></th>\n",
       "      <th>Caliber</th>\n",
       "      <th>Bullet Name</th>\n",
       "      <th>Flesh Damage</th>\n",
       "      <th>Penetration Power</th>\n",
       "      <th>Armor Damage (%)</th>\n",
       "      <th>Accuracy (%)</th>\n",
       "      <th>Recoil (%)</th>\n",
       "      <th>Fragmentation Chance (%)</th>\n",
       "      <th>Pentration Armor One</th>\n",
       "      <th>Pentration Armor Two</th>\n",
       "      <th>Pentration Armor Three</th>\n",
       "      <th>Pentration Armor Four</th>\n",
       "      <th>Pentration Armor Five</th>\n",
       "      <th>Pentration Armor Six</th>\n",
       "      <th>Current Price</th>\n",
       "      <th>24 hour Price Diff</th>\n",
       "      <th>1 week Price Diff</th>\n",
       "      <th>Last Updated</th>\n",
       "      <th>Pen Power by Price</th>\n",
       "      <th>Flesh Damage by Price</th>\n",
       "    </tr>\n",
       "  </thead>\n",
       "  <tbody>\n",
       "    <tr>\n",
       "      <td>1</td>\n",
       "      <td>12/70 shot</td>\n",
       "      <td>12/70 5.25mm Buckshot</td>\n",
       "      <td>272</td>\n",
       "      <td>1.0</td>\n",
       "      <td>15.0</td>\n",
       "      <td>0.0</td>\n",
       "      <td>0.0</td>\n",
       "      <td>0%</td>\n",
       "      <td>3.0</td>\n",
       "      <td>3.0</td>\n",
       "      <td>3.0</td>\n",
       "      <td>3.0</td>\n",
       "      <td>3.0</td>\n",
       "      <td>3.0</td>\n",
       "      <td>35</td>\n",
       "      <td>-5.41</td>\n",
       "      <td>-16.67</td>\n",
       "      <td>2020-02-20T23:43:46.726Z</td>\n",
       "      <td>0.028571</td>\n",
       "      <td>7.771429</td>\n",
       "    </tr>\n",
       "    <tr>\n",
       "      <td>2</td>\n",
       "      <td>12/70 shot</td>\n",
       "      <td>12/70 8.5 mm \"Magnum\" Buckshot</td>\n",
       "      <td>352</td>\n",
       "      <td>2.0</td>\n",
       "      <td>26.0</td>\n",
       "      <td>-15.0</td>\n",
       "      <td>115.0</td>\n",
       "      <td>0%</td>\n",
       "      <td>3.0</td>\n",
       "      <td>3.0</td>\n",
       "      <td>3.0</td>\n",
       "      <td>3.0</td>\n",
       "      <td>3.0</td>\n",
       "      <td>3.0</td>\n",
       "      <td>54</td>\n",
       "      <td>-26.03</td>\n",
       "      <td>-29.87</td>\n",
       "      <td>2020-02-20T22:23:05.950Z</td>\n",
       "      <td>0.037037</td>\n",
       "      <td>6.518519</td>\n",
       "    </tr>\n",
       "    <tr>\n",
       "      <td>3</td>\n",
       "      <td>12/70 shot</td>\n",
       "      <td>12x70 6.5 mm \"Express\" Buckshot</td>\n",
       "      <td>261</td>\n",
       "      <td>3.0</td>\n",
       "      <td>26.0</td>\n",
       "      <td>15.0</td>\n",
       "      <td>0.0</td>\n",
       "      <td>0%</td>\n",
       "      <td>3.0</td>\n",
       "      <td>3.0</td>\n",
       "      <td>3.0</td>\n",
       "      <td>3.0</td>\n",
       "      <td>3.0</td>\n",
       "      <td>3.0</td>\n",
       "      <td>30</td>\n",
       "      <td>-53.85</td>\n",
       "      <td>-93.59</td>\n",
       "      <td>2020-02-20T22:30:49.294Z</td>\n",
       "      <td>0.100000</td>\n",
       "      <td>8.700000</td>\n",
       "    </tr>\n",
       "    <tr>\n",
       "      <td>4</td>\n",
       "      <td>12/70 shot</td>\n",
       "      <td>12x70 7mm Buckshot</td>\n",
       "      <td>256</td>\n",
       "      <td>3.0</td>\n",
       "      <td>26.0</td>\n",
       "      <td>0.0</td>\n",
       "      <td>0.0</td>\n",
       "      <td>0%</td>\n",
       "      <td>3.0</td>\n",
       "      <td>3.0</td>\n",
       "      <td>3.0</td>\n",
       "      <td>3.0</td>\n",
       "      <td>3.0</td>\n",
       "      <td>3.0</td>\n",
       "      <td>16</td>\n",
       "      <td>-20.00</td>\n",
       "      <td>-11.11</td>\n",
       "      <td>2020-02-20T23:52:31.897Z</td>\n",
       "      <td>0.187500</td>\n",
       "      <td>16.000000</td>\n",
       "    </tr>\n",
       "    <tr>\n",
       "      <td>5</td>\n",
       "      <td>12/70 shot</td>\n",
       "      <td>12/70 Flechette</td>\n",
       "      <td>152</td>\n",
       "      <td>28.0</td>\n",
       "      <td>26.0</td>\n",
       "      <td>-25.0</td>\n",
       "      <td>0.0</td>\n",
       "      <td>0%</td>\n",
       "      <td>6.0</td>\n",
       "      <td>6.0</td>\n",
       "      <td>5.0</td>\n",
       "      <td>4.0</td>\n",
       "      <td>3.0</td>\n",
       "      <td>3.0</td>\n",
       "      <td>123</td>\n",
       "      <td>5.13</td>\n",
       "      <td>12.84</td>\n",
       "      <td>2020-02-20T22:35:12.036Z</td>\n",
       "      <td>0.227642</td>\n",
       "      <td>1.235772</td>\n",
       "    </tr>\n",
       "  </tbody>\n",
       "</table>\n",
       "</div>"
      ],
      "text/plain": [
       "      Caliber                      Bullet Name  Flesh Damage  \\\n",
       "1  12/70 shot            12/70 5.25mm Buckshot           272   \n",
       "2  12/70 shot   12/70 8.5 mm \"Magnum\" Buckshot           352   \n",
       "3  12/70 shot  12x70 6.5 mm \"Express\" Buckshot           261   \n",
       "4  12/70 shot               12x70 7mm Buckshot           256   \n",
       "5  12/70 shot                  12/70 Flechette           152   \n",
       "\n",
       "   Penetration Power  Armor Damage (%)  Accuracy (%)  Recoil (%)  \\\n",
       "1                1.0              15.0           0.0         0.0   \n",
       "2                2.0              26.0         -15.0       115.0   \n",
       "3                3.0              26.0          15.0         0.0   \n",
       "4                3.0              26.0           0.0         0.0   \n",
       "5               28.0              26.0         -25.0         0.0   \n",
       "\n",
       "  Fragmentation Chance (%)  Pentration Armor One  Pentration Armor Two  \\\n",
       "1                       0%                   3.0                   3.0   \n",
       "2                       0%                   3.0                   3.0   \n",
       "3                       0%                   3.0                   3.0   \n",
       "4                       0%                   3.0                   3.0   \n",
       "5                       0%                   6.0                   6.0   \n",
       "\n",
       "   Pentration Armor Three  Pentration Armor Four  Pentration Armor Five  \\\n",
       "1                     3.0                    3.0                    3.0   \n",
       "2                     3.0                    3.0                    3.0   \n",
       "3                     3.0                    3.0                    3.0   \n",
       "4                     3.0                    3.0                    3.0   \n",
       "5                     5.0                    4.0                    3.0   \n",
       "\n",
       "   Pentration Armor Six  Current Price  24 hour Price Diff  1 week Price Diff  \\\n",
       "1                   3.0             35               -5.41             -16.67   \n",
       "2                   3.0             54              -26.03             -29.87   \n",
       "3                   3.0             30              -53.85             -93.59   \n",
       "4                   3.0             16              -20.00             -11.11   \n",
       "5                   3.0            123                5.13              12.84   \n",
       "\n",
       "               Last Updated  Pen Power by Price  Flesh Damage by Price  \n",
       "1  2020-02-20T23:43:46.726Z            0.028571               7.771429  \n",
       "2  2020-02-20T22:23:05.950Z            0.037037               6.518519  \n",
       "3  2020-02-20T22:30:49.294Z            0.100000               8.700000  \n",
       "4  2020-02-20T23:52:31.897Z            0.187500              16.000000  \n",
       "5  2020-02-20T22:35:12.036Z            0.227642               1.235772  "
      ]
     },
     "execution_count": 32,
     "metadata": {},
     "output_type": "execute_result"
    }
   ],
   "source": [
    "df.head()"
   ]
  },
  {
   "cell_type": "code",
   "execution_count": null,
   "metadata": {},
   "outputs": [],
   "source": [
    "[['Pentration Armor One':'Pentration Armor Six']]"
   ]
  },
  {
   "cell_type": "code",
   "execution_count": 86,
   "metadata": {},
   "outputs": [],
   "source": [
    "t = df.loc[df['Bullet Name'] == '12/70 Grizzly 40 Slug']"
   ]
  },
  {
   "cell_type": "code",
   "execution_count": 91,
   "metadata": {},
   "outputs": [
    {
     "data": {
      "text/html": [
       "<div>\n",
       "<style scoped>\n",
       "    .dataframe tbody tr th:only-of-type {\n",
       "        vertical-align: middle;\n",
       "    }\n",
       "\n",
       "    .dataframe tbody tr th {\n",
       "        vertical-align: top;\n",
       "    }\n",
       "\n",
       "    .dataframe thead th {\n",
       "        text-align: right;\n",
       "    }\n",
       "</style>\n",
       "<table border=\"1\" class=\"dataframe\">\n",
       "  <thead>\n",
       "    <tr style=\"text-align: right;\">\n",
       "      <th></th>\n",
       "      <th>Caliber</th>\n",
       "      <th>Bullet Name</th>\n",
       "      <th>Flesh Damage</th>\n",
       "      <th>Penetration Power</th>\n",
       "      <th>Armor Damage (%)</th>\n",
       "      <th>Accuracy (%)</th>\n",
       "      <th>Recoil (%)</th>\n",
       "      <th>Fragmentation Chance (%)</th>\n",
       "      <th>Pentration Armor One</th>\n",
       "      <th>Pentration Armor Two</th>\n",
       "      <th>Pentration Armor Three</th>\n",
       "      <th>Pentration Armor Four</th>\n",
       "      <th>Pentration Armor Five</th>\n",
       "      <th>Pentration Armor Six</th>\n",
       "      <th>Current Price</th>\n",
       "      <th>24 hour Price Diff</th>\n",
       "      <th>1 week Price Diff</th>\n",
       "      <th>Last Updated</th>\n",
       "      <th>Pen Power by Price</th>\n",
       "      <th>Flesh Damage by Price</th>\n",
       "    </tr>\n",
       "  </thead>\n",
       "  <tbody>\n",
       "  </tbody>\n",
       "</table>\n",
       "</div>"
      ],
      "text/plain": [
       "Empty DataFrame\n",
       "Columns: [Caliber, Bullet Name, Flesh Damage, Penetration Power, Armor Damage (%), Accuracy (%), Recoil (%), Fragmentation Chance (%), Pentration Armor One, Pentration Armor Two, Pentration Armor Three, Pentration Armor Four, Pentration Armor Five, Pentration Armor Six, Current Price, 24 hour Price Diff, 1 week Price Diff, Last Updated, Pen Power by Price, Flesh Damage by Price]\n",
       "Index: []"
      ]
     },
     "execution_count": 91,
     "metadata": {},
     "output_type": "execute_result"
    }
   ],
   "source": [
    "t.loc['Pentration Armor One':'Pentration Armor Six']"
   ]
  },
  {
   "cell_type": "code",
   "execution_count": 92,
   "metadata": {},
   "outputs": [
    {
     "data": {
      "text/plain": [
       "array([[6., 2., 0., 0., 0., 0.]])"
      ]
     },
     "execution_count": 92,
     "metadata": {},
     "output_type": "execute_result"
    }
   ],
   "source": [
    "df.loc[df['Bullet Name'] == '12/70 Grizzly 40 Slug'].loc[:,'Pentration Armor One':'Pentration Armor Six'].values"
   ]
  },
  {
   "cell_type": "code",
   "execution_count": null,
   "metadata": {},
   "outputs": [],
   "source": []
  }
 ],
 "metadata": {
  "kernelspec": {
   "display_name": "Python 3",
   "language": "python",
   "name": "python3"
  },
  "language_info": {
   "codemirror_mode": {
    "name": "ipython",
    "version": 3
   },
   "file_extension": ".py",
   "mimetype": "text/x-python",
   "name": "python",
   "nbconvert_exporter": "python",
   "pygments_lexer": "ipython3",
   "version": "3.7.4"
  }
 },
 "nbformat": 4,
 "nbformat_minor": 4
}
